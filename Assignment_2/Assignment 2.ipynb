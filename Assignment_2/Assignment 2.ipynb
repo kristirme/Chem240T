{
 "cells": [
  {
   "cell_type": "markdown",
   "id": "335c75f3-f86f-4c97-9a98-7f0bfb380926",
   "metadata": {},
   "source": [
    "# Assignment 2\n",
    "\n",
    "## Pre-Questions\n",
    "\n",
    "*In accordance with the class policy, if any AI tools are used in completion of any part of this assignment they must be acknowledged. Failure to acknowledge usage constitutes academic dishonesty.*\n",
    "\n",
    "1.\tWhat are the key steps that should be done to analyze and process your data before applying any machine learning algorithm?\n",
    "    "
   ]
  },
  {
   "cell_type": "markdown",
   "id": "a607fa65-2231-4c0f-9fa0-ba47671e5820",
   "metadata": {},
   "source": []
  },
  {
   "cell_type": "markdown",
   "id": "c5bf6d94-5185-4a73-b150-78bc8962c28c",
   "metadata": {},
   "source": [
    "2. Explain what is meant by a model (a) overfitting and (b) underfitting the data. "
   ]
  },
  {
   "cell_type": "markdown",
   "id": "ebdf259c-11bf-4d79-bf6e-baa8e6e664bb",
   "metadata": {},
   "source": []
  },
  {
   "cell_type": "markdown",
   "id": "db6a0359-c0bf-4418-a3b1-7593a0317970",
   "metadata": {},
   "source": [
    "3.\tExplain the difference between a linear regression model and a multi-linear regression model. Which do you expect to be more accurate and why/under what circumstances?"
   ]
  },
  {
   "cell_type": "markdown",
   "id": "130165a7-a16a-4c01-8d06-8e838f7e79b2",
   "metadata": {},
   "source": []
  },
  {
   "cell_type": "markdown",
   "id": "48a58937-097d-40f3-b5ea-556d6f416763",
   "metadata": {},
   "source": [
    "## Machine Learning Model\n",
    "\n",
    "In this part of the assignment you will load, explore and generate a machine learning model for a new data set. The data you will use results from high quality quantum chemistry calculations on chemical reactions. The data set consists of molecular identifiers for the reactant and product molecules, the activation energy barrier (dE0 in kcal/mol) and the reaction enthalpy (dHrxn298 in kcal/mol). The original published data can be found here: [![DOI](https://zenodo.org/badge/DOI/10.5281/zenodo.13328872.svg)](https://doi.org/10.5281/zenodo.13328872)\n",
    "\n",
    "All of the commands needed for completing this activity can be found in the in-class activities. \n",
    "\n",
    "Start by installing potentially useful libraries\n"
   ]
  },
  {
   "cell_type": "code",
   "execution_count": null,
   "id": "d7a11b7f-216b-4d8b-a42d-ebb89c0addf2",
   "metadata": {
    "scrolled": true
   },
   "outputs": [],
   "source": [
    "pip install sweetviz"
   ]
  },
  {
   "cell_type": "code",
   "execution_count": null,
   "id": "90ac379a-43a7-4a98-bccd-8b73a226267d",
   "metadata": {
    "scrolled": true
   },
   "outputs": [],
   "source": [
    "pip install pycaret"
   ]
  },
  {
   "cell_type": "code",
   "execution_count": null,
   "id": "f030bbbd-f1dd-4167-89e6-be08ec636c29",
   "metadata": {},
   "outputs": [],
   "source": [
    "## Restart kernel to load libraries properly\n",
    "from IPython import get_ipython\n",
    "\n",
    "if get_ipython():\n",
    "    get_ipython().kernel.do_shutdown(restart=True)"
   ]
  },
  {
   "cell_type": "code",
   "execution_count": null,
   "id": "e76265f4-0ec7-4a95-8036-0dd615d674ae",
   "metadata": {},
   "outputs": [],
   "source": [
    "## load libraries and functions...not all need to be used...you can also use others as desired\n",
    "import pandas as pd                 # for data manipulation\n",
    "import seaborn as sns               # for data visualization\n",
    "import matplotlib.pyplot as plt     # for data visualization\n",
    "import numpy as np                  # for numerical operations\n",
    "import sweetviz as sv               # for fast exploratory data analysis (eda)\n",
    "\n",
    "from pycaret.regression import *    # for comparing ML models\n",
    "\n",
    "from rdkit import Chem              # for calculating cheminformatics properties of molecules\n",
    "from rdkit.Chem import Descriptors  # for determining chemical descriptors\n",
    "from rdkit.Chem import Crippen      # for calculating logP (cLogP)\n",
    "from rdkit.Chem import PandasTools  # for displaying molecules\n",
    "PandasTools.RenderImagesInAllDataFrames(images=True) # Ensures molecules are rendered in the notebook\n",
    "\n",
    "from sklearn.preprocessing import StandardScaler            # for scaling the data\n",
    "from sklearn.model_selection import train_test_split        # for splitting the data into training and testing sets\n",
    "from sklearn.model_selection import cross_val_score, KFold  # for K-fold cross-validation\n",
    "from sklearn.linear_model import LinearRegression           # for creating a linear regression model\n",
    "from sklearn.ensemble import RandomForestRegressor          # for creating a random forest regression model\n",
    "from sklearn.metrics import mean_squared_error, r2_score    # for evaluating the model\n",
    "from sklearn.pipeline import make_pipeline                  # for building operational pipelines"
   ]
  },
  {
   "cell_type": "markdown",
   "id": "287be319-0ac0-4fc2-8b77-65d32dbfa6c9",
   "metadata": {},
   "source": [
    "1) Load the ccsdtf12_dz.csv file into a pandas dataframe"
   ]
  },
  {
   "cell_type": "code",
   "execution_count": null,
   "id": "2d9f7966-c1c2-4c10-a193-09784b4bfa1a",
   "metadata": {
    "scrolled": true
   },
   "outputs": [],
   "source": []
  },
  {
   "cell_type": "markdown",
   "id": "5edcf8b9-c829-4e79-b23f-1731b1a23828",
   "metadata": {},
   "source": [
    "2) Check for missing values and perform an exploratory data analysis of the numerical parameters"
   ]
  },
  {
   "cell_type": "code",
   "execution_count": null,
   "id": "18bed920-bce9-4744-88db-3df1096f3bd1",
   "metadata": {},
   "outputs": [],
   "source": []
  },
  {
   "cell_type": "markdown",
   "id": "34b53596-50ea-4729-914d-60f3bbb491b3",
   "metadata": {},
   "source": [
    "3) Add columns containing the structures of the reactant and product molecules based on the reactant (rsmi) and product (rsmi) SMILES strings to the original dataframe. Remove any columns with incomplete data."
   ]
  },
  {
   "cell_type": "code",
   "execution_count": null,
   "id": "ffcea48f-92b2-46e8-a7a8-7c7a3f41788e",
   "metadata": {
    "scrolled": true
   },
   "outputs": [],
   "source": []
  },
  {
   "cell_type": "markdown",
   "id": "1ea81773-52e8-485a-9264-ac494c486ae0",
   "metadata": {},
   "source": [
    "4) Add molecular descriptors from rdkit that may be useful for predicting the reaction barriers or reaction enthalpies, note that you have both reactant and product molecules"
   ]
  },
  {
   "cell_type": "code",
   "execution_count": null,
   "id": "33891e80-04ed-499d-b335-cfe62f0bb42b",
   "metadata": {
    "scrolled": true
   },
   "outputs": [],
   "source": []
  },
  {
   "cell_type": "markdown",
   "id": "25c59625-2f8e-408a-b55c-0fe0b8fd0795",
   "metadata": {},
   "source": [
    "5) Create a simplifed data frame containing only the numerical data."
   ]
  },
  {
   "cell_type": "code",
   "execution_count": null,
   "id": "f924692e-a1d1-4d53-8016-225943c4b73d",
   "metadata": {
    "scrolled": true
   },
   "outputs": [],
   "source": []
  },
  {
   "cell_type": "markdown",
   "id": "0d8f40f2-1495-4ff3-b5e4-6253d2cb1090",
   "metadata": {},
   "source": [
    "6) Split the numerical data into a training and testing set"
   ]
  },
  {
   "cell_type": "code",
   "execution_count": null,
   "id": "e5ad75f7-75c5-4243-bd3e-a97cd2acaf6c",
   "metadata": {},
   "outputs": [],
   "source": []
  },
  {
   "cell_type": "markdown",
   "id": "dafe970d-4655-4321-8691-ea60e0e2f188",
   "metadata": {},
   "source": [
    "7) Scale features or perform other feature engineering as appropriate"
   ]
  },
  {
   "cell_type": "code",
   "execution_count": null,
   "id": "54bf7430-b2ee-487f-b37d-f04c6c0f4063",
   "metadata": {},
   "outputs": [],
   "source": []
  },
  {
   "cell_type": "markdown",
   "id": "dc86c2d9-b223-4f63-99b3-69777d7b9400",
   "metadata": {},
   "source": [
    "8) Select a machine learning model (explain your choice)"
   ]
  },
  {
   "cell_type": "code",
   "execution_count": null,
   "id": "c58a4248-5f47-429c-ab77-a5a1a89210a9",
   "metadata": {},
   "outputs": [],
   "source": []
  },
  {
   "cell_type": "markdown",
   "id": "13e78695-7899-4cdf-9b3f-cb2a4533bb62",
   "metadata": {},
   "source": [
    "9) Train your machine learning model"
   ]
  },
  {
   "cell_type": "code",
   "execution_count": null,
   "id": "d2407caf-0e62-4b2e-b522-dd42b3cd26ca",
   "metadata": {},
   "outputs": [],
   "source": []
  },
  {
   "cell_type": "markdown",
   "id": "31f33c39-5e1d-48d6-8032-cdd30dc93a05",
   "metadata": {},
   "source": [
    "10) How does your model perform? Comment on the R2 and MSE/RMSE values. Suggest a method for improving the model"
   ]
  },
  {
   "cell_type": "code",
   "execution_count": null,
   "id": "21bd50d0-37c4-45b1-8aa6-071a3eae07bc",
   "metadata": {},
   "outputs": [],
   "source": []
  },
  {
   "cell_type": "markdown",
   "id": "a5d6504c-22c9-43e3-a0c1-75089c0d209c",
   "metadata": {},
   "source": [
    "11) Try at least one thing to improve your model or choose a different model. Comment on whether it actually led to an approvement or not."
   ]
  },
  {
   "cell_type": "code",
   "execution_count": null,
   "id": "089c2e67-c348-4da1-8fec-973e8d7d0526",
   "metadata": {},
   "outputs": [],
   "source": []
  }
 ],
 "metadata": {
  "kernelspec": {
   "display_name": "Python 3 (ipykernel)",
   "language": "python",
   "name": "python3"
  },
  "language_info": {
   "codemirror_mode": {
    "name": "ipython",
    "version": 3
   },
   "file_extension": ".py",
   "mimetype": "text/x-python",
   "name": "python",
   "nbconvert_exporter": "python",
   "pygments_lexer": "ipython3",
   "version": "3.11.9"
  }
 },
 "nbformat": 4,
 "nbformat_minor": 5
}
