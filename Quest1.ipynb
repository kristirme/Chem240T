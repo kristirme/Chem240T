{
 "cells": [
  {
   "cell_type": "markdown",
   "id": "778d8faf-87d3-4442-8000-186e9d890f0a",
   "metadata": {},
   "source": [
    "# Quest 1\n",
    "\n",
    "## Take home portion\n",
    "\n",
    "* Complete the tasks on your own and submit both the .pdf or .html ***and*** .ipynb files on Canvas for credit. \n",
    "\n",
    "* You should answer or complete all boxed questions.   \n",
    "\n",
    "* Do not consult any person other than Dr. Closser for help on this quest, however you may use any text or static web resources you like, including class notes. You are also not permitted to use generative AI tools or online question and answer services to answer these questions. If you have any questions regarding permitted materials please ask.\n",
    "\n",
    "* Formal hints may be requested from Dr. Closser. Any direct hints will deduct 3 points from your final score.\n",
    "\n",
    "* This portion of the exam is worth 60 points. 30 points for each task.\n",
    "\n",
    "* Note that some of the cells are in Markdown format which is for text entry and some are code format when coding is needed. Shift+Enter will turn the text into a formatted version."
   ]
  },
  {
   "cell_type": "markdown",
   "id": "a56cd757-820e-4ea0-819b-e3a9926ec8b5",
   "metadata": {},
   "source": [
    "## Task 1\n",
    "\n",
    "Late last night your professor decided to write a code to predict the number of spin up electrons for a given number of electrons using a random number generator that determines pseudo-random values between 0 and 1 assuming that there is an equal probability (p=0.5 or 50\\%) of spin up and spin down electrons. However she decided not to add any comments or explain in detail how it works. Then she thought it would be a good idea to apply Machine Learning to this model.\n",
    "\n",
    "<div class=\"alert alert-block alert-info\"> \n",
    "<strong>1.1 (2 points)</strong> \n",
    "\n",
    "Comment the following code to explain exactly what it does (use # before comments in a coding environment, see example). Be very specific and comment for *every* line.\n",
    "\n",
    "</div>  \n"
   ]
  },
  {
   "cell_type": "code",
   "execution_count": null,
   "id": "21974966-6d5e-4bf0-a56e-c548e2af034a",
   "metadata": {},
   "outputs": [],
   "source": [
    "import numpy as np\n",
    "\n",
    "N_elec = 100 # This assignes a value of 100 to N_elec\n",
    "N_up = 0 \n",
    "\n",
    "p = 0.5\n",
    "\n",
    "for h in range(N_elec):\n",
    "    x = np.random.rand()\n",
    "    if x < p:\n",
    "        N_up = N_up + 1\n",
    "\n",
    "N_pct = N_up/N_elec * 100\n",
    "\n",
    "print(f\"There are {N_up} spin-up electrons out of {N_elec} total electrons\\n\")\n",
    "print(f\"This means that {N_pct} percent of the electrons are spin up\\n\")\n"
   ]
  },
  {
   "cell_type": "markdown",
   "id": "b4172c6d-aa20-4ed9-b857-ebe985471ad9",
   "metadata": {},
   "source": [
    "<div class=\"alert alert-block alert-info\"> \n",
    "<strong>1.2 (2 points)</strong>\n",
    "\n",
    "a) What happens when you run the code in 1.1 multiple times? Why? \n",
    "\n",
    "b) What could you do to ensure that it always produces the same output?\n",
    "\n",
    "</div>  \n"
   ]
  },
  {
   "cell_type": "markdown",
   "id": "cc54f24f-b8a9-486e-9d3f-7d4f3e8e0178",
   "metadata": {},
   "source": [
    "a)\n",
    "\n",
    "b)"
   ]
  },
  {
   "cell_type": "markdown",
   "id": "1ef133eb-af9f-40d1-973c-f0e01e118238",
   "metadata": {},
   "source": [
    "<div class=\"alert alert-block alert-info\"> \n",
    "<strong>1.3 (2 points)</strong>\n",
    "\n",
    "a) How would you predict the fraction of spin up electrons change as the total number of electrons is changed? \n",
    "\n",
    "b) How would your verify your prediction from part a?\n",
    "\n",
    "</div>  \n"
   ]
  },
  {
   "cell_type": "markdown",
   "id": "153844d0-18e5-4483-aa30-8aec6e7d9cc2",
   "metadata": {},
   "source": [
    "a)\n",
    "\n",
    "b)"
   ]
  },
  {
   "cell_type": "markdown",
   "id": "b59765bf-dca9-4e9b-bc7b-7346af53f40b",
   "metadata": {},
   "source": [
    "<div class=\"alert alert-block alert-info\"> \n",
    "<strong>1.4 (4 points)</strong>\n",
    "\n",
    "Modify the code from above so that the calculation (copied below) is repeated 5000 times. Save the percent of spin up electrons from each run in a list called `trials`. At the end of your code, print the length, mean (average) and standard deviation for the list `trials`. There are functions in numpy that will allow you to calculate these quantities easily.\n",
    "\n",
    "</div>  \n"
   ]
  },
  {
   "cell_type": "code",
   "execution_count": null,
   "id": "0b238503-a434-49cc-881a-23b585e1f6a9",
   "metadata": {},
   "outputs": [],
   "source": [
    "import numpy as np\n",
    "\n",
    "N_elec = 100 # This assignes a value of 100 to N_elec\n",
    "N_up = 0 \n",
    "\n",
    "p = 0.5\n",
    "\n",
    "for h in range(N_elec):\n",
    "    x = np.random.rand()\n",
    "    if x < p:\n",
    "        N_up = N_up + 1\n",
    "\n",
    "N_pct = N_up/N_elec * 100\n",
    "\n",
    "print(f\"There are {N_up} spin-up electrons out of {N_elec} total electrons\\n\")\n",
    "print(f\"This means that {N_pct} percent of the electrons are spin up\\n\")\n"
   ]
  },
  {
   "cell_type": "markdown",
   "id": "3f44e813-df01-4e2b-89cd-ecb294468cf6",
   "metadata": {},
   "source": [
    "<div class=\"alert alert-block alert-info\"> \n",
    "<strong>1.5 (5 points)</strong>\n",
    "\n",
    "Plot the `trials` vector from 1.4 as a histogram using the seaborn library. The histogram can easily be generated with the seaborn library. See [seaborn documentation](https://seaborn.pydata.org/generated/seaborn.histplot.html) for more information. For full credit you should modify the default plot to include axes labels and make it look nice.\n",
    "\n",
    "</div>  \n"
   ]
  },
  {
   "cell_type": "code",
   "execution_count": null,
   "id": "4cca712d-e7f9-4e76-aec5-7b448d2452f8",
   "metadata": {},
   "outputs": [],
   "source": [
    "#load seaborn and matplotlib\n",
    "import seaborn as sns\n",
    "import matplotlib.pyplot as plt\n",
    "\n",
    "plt.figure(figsize=(6, 4))\n",
    "\n",
    "# add line to generate histogram\n",
    "\n",
    "# add additional options to figure object\n",
    "\n",
    "plt.show()"
   ]
  },
  {
   "cell_type": "markdown",
   "id": "b9c59de8-a87f-40a6-92c6-dea41081c051",
   "metadata": {},
   "source": [
    "<div class=\"alert alert-block alert-info\"> \n",
    "<strong>1.6 (6 points)</strong>\n",
    "\n",
    "Shift and scale the data from the trials to be centered at 0 and have a standard devaition of 1. You can do this manually using loops and numpy functions or using the scikitlearn StandardScalar functionality. Note that in order to use scikitlearn you must turn the list into a dataframe. The required libraries for this are given below, and usage of the functions can be found in the 04_machine_learning activity. \n",
    "\n",
    "Plot the shifted and scaled data as a histogram.\n",
    "\n",
    "</div>  "
   ]
  },
  {
   "cell_type": "code",
   "execution_count": null,
   "id": "bebe5d38-2178-41eb-8938-1f1e738aef4e",
   "metadata": {},
   "outputs": [],
   "source": [
    "import pandas as pd\n",
    "from sklearn.preprocessing import StandardScaler\n",
    "\n",
    "# if using sklearn:\n",
    "\n",
    "    # initialize a StandardScaler object\n",
    "\n",
    "    # turn trials list into a dataframe and reshape \n",
    "\n",
    "    # apply fit_transform to scale\n",
    "\n",
    "# if using numpy and/or loops\n",
    "\n",
    "    # compute mean and standard deviation\n",
    "\n",
    "    # subtract mean from all data points\n",
    "\n",
    "    # divide all data points using standard deviation\n",
    "\n",
    "# plot histogram (see 1.5)"
   ]
  },
  {
   "cell_type": "markdown",
   "id": "3fd68d46-b275-4e24-91ea-bf90077043cb",
   "metadata": {},
   "source": [
    "<div class=\"alert alert-block alert-info\"> \n",
    "<strong>1.7 (2 points)</strong>\n",
    "\n",
    "Save the scaled trials data to a csv file. The easiest way to do this is to turn your transformed data array into a dataframe and then use the pandas `to_csv` function to write the file.\n",
    "\n",
    "</div>  "
   ]
  },
  {
   "cell_type": "code",
   "execution_count": null,
   "id": "03c54a6c-93ea-4e09-b2cf-5b20de44cdcd",
   "metadata": {},
   "outputs": [],
   "source": [
    "# code to save scaled trial data to file"
   ]
  },
  {
   "cell_type": "markdown",
   "id": "f2e50159-7588-4e00-99a2-661417d804b3",
   "metadata": {},
   "source": [
    "<div class=\"alert alert-block alert-info\"> \n",
    "<strong>1.8 (4 points)</strong>\n",
    "\n",
    "Install pycaret and then read in the data from the scaled trials file created in step 1.7. The kernel will restart after installing pycaret, which is why you need to read the data back in.\n",
    "\n",
    "Then, set-up and run pycaret to fit this data to a variety of machine learning models.\n",
    "\n",
    "*The required code for this step is mostly included for you, but you will need to make sure you are reading in your data correctly.*\n",
    "\n",
    "</div>  "
   ]
  },
  {
   "cell_type": "code",
   "execution_count": null,
   "id": "99f40966-0352-4804-a917-a80e8b17333a",
   "metadata": {
    "scrolled": true
   },
   "outputs": [],
   "source": [
    "pip install pycaret"
   ]
  },
  {
   "cell_type": "code",
   "execution_count": null,
   "id": "9594093b-f0dd-41da-ae49-ee598f07f177",
   "metadata": {},
   "outputs": [],
   "source": [
    "from IPython import get_ipython\n",
    "\n",
    "if get_ipython():\n",
    "    get_ipython().kernel.do_shutdown(restart=True)"
   ]
  },
  {
   "cell_type": "code",
   "execution_count": null,
   "id": "2f6ac247-31af-4562-a1da-b4c061fa1703",
   "metadata": {},
   "outputs": [],
   "source": [
    "import pandas as pd                 # for data manipulation\n",
    "from pycaret.regression import *    # for comparing the models"
   ]
  },
  {
   "cell_type": "code",
   "execution_count": null,
   "id": "5b8f3e3d-22e7-409e-8420-4f705e2ccef8",
   "metadata": {},
   "outputs": [],
   "source": [
    "# Path to the preprocessed data file\n",
    "data_path = \"YOURFILEHERE.csv\"\n",
    "\n",
    "# Read the data into a DataFrame\n",
    "df = pd.read_csv(data_path)\n",
    "df.head()"
   ]
  },
  {
   "cell_type": "code",
   "execution_count": null,
   "id": "5d9fc8f8-54a6-491e-b3f6-de4753ec5b1f",
   "metadata": {},
   "outputs": [],
   "source": [
    "s = setup(data = df, target = 1, session_id = 125, fold = 5, n_jobs = 1)"
   ]
  },
  {
   "cell_type": "code",
   "execution_count": null,
   "id": "24ffcc81-12d7-4a78-918f-4d64bc42faac",
   "metadata": {},
   "outputs": [],
   "source": [
    "best = compare_models()"
   ]
  },
  {
   "cell_type": "markdown",
   "id": "946d0ccd-ff21-4839-a489-d4d83189eca6",
   "metadata": {},
   "source": [
    "<div class=\"alert alert-block alert-info\"> \n",
    "<strong>1.10 (3 points)</strong>\n",
    "\n",
    "Comment on the success of fitting this data to a machine learning model. Do the results make sense? Why or why not. \n",
    "\n",
    "*If you were not able to complete the previous parts, explain why you would expect the percentage of spin up electrons to be described using machine learning or not.*\n",
    "\n",
    "</div>  "
   ]
  },
  {
   "cell_type": "markdown",
   "id": "37b3025c-1ee1-40da-8475-b5d7f13cbd95",
   "metadata": {},
   "source": []
  },
  {
   "cell_type": "code",
   "execution_count": null,
   "id": "ab0a89dd-5f48-41dc-89f6-b38cf7dd5a98",
   "metadata": {},
   "outputs": [],
   "source": []
  },
  {
   "cell_type": "markdown",
   "id": "f094de68-243a-4e02-8e34-242079bf8b0f",
   "metadata": {},
   "source": [
    "## Task 2\n",
    "\n",
    "For this next task you will switch to contemplating the mysteries of molecular dynamics trajectories using `openmm`. \n",
    "\n",
    "\n",
    "<div class=\"alert alert-block alert-info\"> \n",
    "<strong>2.1 (4 points)</strong>\n",
    "\n",
    "Set-up and initialize openmm simulation of 200 Neon atoms at 298.15 K in a box at 1 bar of pressure. Note you will need to fill in the values wherever it ends in \"_HERE\", and you will need to reserach appropriate Lennard-Jones parameters $\\sigma$ and $\\varepsilon$ for Neon.\n",
    "\n",
    "</div>  "
   ]
  },
  {
   "cell_type": "markdown",
   "id": "46d0c128-6094-4ed9-9ef6-e21eaa20b41a",
   "metadata": {},
   "source": [
    "Lennard-Jones Parameters for Neon and source:\n",
    "\n"
   ]
  },
  {
   "cell_type": "code",
   "execution_count": null,
   "id": "1180d84a-8cb3-4bf3-9b92-5aa64c78dcb6",
   "metadata": {},
   "outputs": [],
   "source": [
    "# load useful libraries\n",
    "from sys import stdout\n",
    "\n",
    "import matplotlib.pyplot as plt\n",
    "import mdtraj\n",
    "import nglview\n",
    "import numpy as np\n",
    "import pandas as pd\n",
    "from openmm import *\n",
    "from openmm.app import *\n",
    "from openmm.unit import *\n",
    "\n",
    "# Define the parameters for the model\n",
    "temperature = TEMPERATURE_HERE * kelvin\n",
    "pressure = PRESSURE_HERE * bar\n",
    "mass = MASS_HERE * amu\n",
    "sigma = SIGMA_HERE * angstrom\n",
    "epsilon = EPSILON_HERE * kelvin * BOLTZMANN_CONSTANT_kB * AVOGADRO_CONSTANT_NA\n",
    "print(\"sigma\",sigma)\n",
    "print(\"epsilon\",epsilon)\n",
    "\n",
    "# Simulation parameters\n",
    "box_size = 150 * angstrom  # initial value only\n",
    "natom = 200\n",
    "cutoff = 3 * sigma"
   ]
  },
  {
   "cell_type": "code",
   "execution_count": null,
   "id": "905d335b-85d5-4c71-b059-6e48eb621ca4",
   "metadata": {},
   "outputs": [],
   "source": [
    "# You do not need to change anything in this portion of the set-up code. Just run this.\n",
    "\n",
    "# Define the OpenMM system\n",
    "system = System()\n",
    "box_matrix = box_size * np.identity(3)\n",
    "system.setDefaultPeriodicBoxVectors(*box_matrix)\n",
    "for _iatom in range(natom):\n",
    "    system.addParticle(mass)\n",
    "\n",
    "# Define a relatively boring topology object.\n",
    "topology = Topology()\n",
    "topology.setPeriodicBoxVectors(box_matrix)\n",
    "chain = topology.addChain()\n",
    "residue = topology.addResidue(\"neon\", chain)\n",
    "element_Ne = Element.getByAtomicNumber(10)\n",
    "for _iatom in range(natom):\n",
    "    topology.addAtom(\"Ne\", element_Ne, residue)\n",
    "\n",
    "# Define the force field as a \"force\" object to be added to the system.\n",
    "force = openmm.NonbondedForce()\n",
    "force.setNonbondedMethod(openmm.NonbondedForce.CutoffPeriodic)\n",
    "for _iatom in range(natom):\n",
    "    force.addParticle(0.0, sigma, epsilon)\n",
    "force.setCutoffDistance(cutoff)\n",
    "force.setUseSwitchingFunction(True)\n",
    "force.setSwitchingDistance(0.8 * cutoff)\n",
    "force.setUseDispersionCorrection(True)\n",
    "force_index = system.addForce(force)\n",
    "\n",
    "# Define the ensemble to be simulated in.\n",
    "integrator = LangevinIntegrator(temperature, 1 / picosecond, 2 * femtoseconds)\n",
    "system.addForce(MonteCarloBarostat(pressure, temperature))\n",
    "\n",
    "# Define a simulation object.\n",
    "simulation = Simulation(topology, system, integrator)\n",
    "\n",
    "# Initialization steps before MD.\n",
    "# - Asign random positions\n",
    "simulation.context.setPositions(np.random.uniform(0, box_size / angstrom, (natom, 3)) * angstrom)\n",
    "# - Minimize the energy\n",
    "simulation.minimizeEnergy()\n",
    "# - Initialize velocities with random values at 300K.\n",
    "simulation.context.setVelocitiesToTemperature(300)"
   ]
  },
  {
   "cell_type": "markdown",
   "id": "4fb7004d-bc44-465e-b9f2-24f165601f8d",
   "metadata": {},
   "source": [
    "<div class=\"alert alert-block alert-info\"> \n",
    "<strong>2.2 (3 points)</strong>\n",
    "\n",
    "Run the simulation by executing the code below. Note that you should rename the files for where the trajectory data will be stored. Choose how many steps to run (STEPS_HERE). You should select a minimum of 5000 steps.\n",
    "\n",
    "</div>  "
   ]
  },
  {
   "cell_type": "code",
   "execution_count": null,
   "id": "85d695c0-31b5-4952-b5f3-654a58c23f0f",
   "metadata": {},
   "outputs": [],
   "source": [
    "# Remove existing reporters, in case this cell is executed more than once.\n",
    "simulation.reporters = []\n",
    "\n",
    "# Write the initial geometry as a PDB file.\n",
    "positions = simulation.context.getState(getPositions=True).getPositions()\n",
    "with open(\"INITIAL_STATE_FILE.pdb\", \"w\") as f:\n",
    "    PDBFile.writeFile(simulation.topology, positions, f)\n",
    "\n",
    "# Write a frame to the DCD trajectory every 100 steps.\n",
    "simulation.reporters.append(DCDReporter(\"TRAJECTORY_FILE.dcd\", 100))\n",
    "\n",
    "# Write scalar properties to a CSV file every 10 steps.\n",
    "simulation.reporters.append(\n",
    "    StateDataReporter(\n",
    "        \"TRAJECTORY_SCALAR_FILE.csv\",\n",
    "        10,\n",
    "        time=True,\n",
    "        potentialEnergy=True,\n",
    "        totalEnergy=True,\n",
    "        temperature=True,\n",
    "        volume=True,\n",
    "    )\n",
    ")\n",
    "\n",
    "# Write scalar properties to screen every 1000 steps.\n",
    "simulation.reporters.append(\n",
    "    StateDataReporter(stdout, 1000, step=True, temperature=True, volume=True)\n",
    ")\n",
    "\n",
    "# Actually run the molecular dynamics simulation.\n",
    "simulation.step(STEPS_HERE)"
   ]
  },
  {
   "cell_type": "markdown",
   "id": "cf6221d1-2c80-46df-9e6d-4cb920b4ad87",
   "metadata": {},
   "source": [
    "<div class=\"alert alert-block alert-info\"> \n",
    "<strong>2.3 (5 points)</strong>\n",
    "\n",
    "Visualize the results. Note file names, you may want to change these.\n",
    "\n",
    "Then read in the scalar file as a pandas dataframe and plot the data available there as a function of the time step.\n",
    "\n",
    "*An example plot for temperature has been done for you, you should also plot volume data, total energy and potential energy*\n",
    "\n",
    "</div>  "
   ]
  },
  {
   "cell_type": "code",
   "execution_count": null,
   "id": "9cf953a5-3025-4205-ab34-ab20dc168235",
   "metadata": {},
   "outputs": [],
   "source": [
    "traj = mdtraj.load(\"TRAJECTORY_FILE.dcd\", top=\"INITIAL_STATE_FILE.pdb\")\n",
    "view = nglview.show_mdtraj(traj)\n",
    "view.add_unitcell()\n",
    "view"
   ]
  },
  {
   "cell_type": "code",
   "execution_count": null,
   "id": "87ca0e9a-2235-42d4-a2f2-dd7e3664fbf4",
   "metadata": {},
   "outputs": [],
   "source": [
    "# read in trajectory scalar data to a pandas dataframe, view the first few rows\n",
    "df = pd.read_csv(\"TRAJECTORY_SCALAR_FILE.csv\")\n",
    "df.head()"
   ]
  },
  {
   "cell_type": "code",
   "execution_count": null,
   "id": "b438f7b0-24d0-4150-9e53-6ad22f9c5f85",
   "metadata": {},
   "outputs": [],
   "source": [
    "# plot values to see change over time.\n",
    "plt.close(\"temperature\")\n",
    "fig, ax = plt.subplots(num=\"temperature\")\n",
    "df.plot(kind=\"line\", x='#\"Time (ps)\"', y=\"Temperature (K)\", ax=ax)\n"
   ]
  },
  {
   "cell_type": "markdown",
   "id": "198c6a8a-7ade-4894-96ca-53dbff825865",
   "metadata": {},
   "source": [
    "<div class=\"alert alert-block alert-info\"> \n",
    "<strong>2.4 (2 points)</strong>\n",
    "\n",
    "If your system above has not yet equilibrated. Rerun the simulation with additional time steps. Then, give the time at which it has reached an equilibrium and explain how you know this.\n",
    "\n",
    "</div>  "
   ]
  },
  {
   "cell_type": "markdown",
   "id": "1477c318-e2d6-4961-8c20-c3098e46fedf",
   "metadata": {},
   "source": []
  },
  {
   "cell_type": "markdown",
   "id": "e403ae6f-cd97-4ab9-b2c3-e99c63ba923e",
   "metadata": {},
   "source": [
    "<div class=\"alert alert-block alert-info\"> \n",
    "<strong>2.5 (3 points)</strong>\n",
    "\n",
    "Repeat the simulation at 30 K and 1 bar. Change the file names so you do not overwrite previous data. If you encounter errors, you may need to adjust the box size and/or cutoff as well.\n",
    "\n",
    "</div>  "
   ]
  },
  {
   "cell_type": "code",
   "execution_count": null,
   "id": "067450f0-aa4b-4e0f-b919-b45e3afb7183",
   "metadata": {},
   "outputs": [],
   "source": [
    "# Define the parameters for the model\n",
    "temperature = TEMPERATURE_HERE * kelvin\n",
    "pressure = PRESSURE_HERE * bar\n",
    "mass = 20.180 * amu\n",
    "sigma = 2.801 * angstrom\n",
    "epsilon = 33.921 * kelvin * BOLTZMANN_CONSTANT_kB * AVOGADRO_CONSTANT_NA\n",
    "print(\"sigma\",sigma)\n",
    "print(\"epsilon\",epsilon)\n",
    "\n",
    "# Simulation parameters\n",
    "box_size = 150 * angstrom  # initial value only\n",
    "natom = 200\n",
    "cutoff = 3 * sigma"
   ]
  },
  {
   "cell_type": "code",
   "execution_count": null,
   "id": "61fa49f4-b9e8-40a9-a78a-78fbba935147",
   "metadata": {},
   "outputs": [],
   "source": [
    "# You do not need to change anything in this portion of the set-up code. Just run this.\n",
    "\n",
    "# Define the OpenMM system\n",
    "system = System()\n",
    "box_matrix = box_size * np.identity(3)\n",
    "system.setDefaultPeriodicBoxVectors(*box_matrix)\n",
    "for _iatom in range(natom):\n",
    "    system.addParticle(mass)\n",
    "\n",
    "# Define a relatively boring topology object.\n",
    "topology = Topology()\n",
    "topology.setPeriodicBoxVectors(box_matrix)\n",
    "chain = topology.addChain()\n",
    "residue = topology.addResidue(\"neon\", chain)\n",
    "element_Ne = Element.getByAtomicNumber(10)\n",
    "for _iatom in range(natom):\n",
    "    topology.addAtom(\"Ne\", element_Ne, residue)\n",
    "\n",
    "# Define the force field as a \"force\" object to be added to the system.\n",
    "force = openmm.NonbondedForce()\n",
    "force.setNonbondedMethod(openmm.NonbondedForce.CutoffPeriodic)\n",
    "for _iatom in range(natom):\n",
    "    force.addParticle(0.0, sigma, epsilon)\n",
    "force.setCutoffDistance(cutoff)\n",
    "force.setUseSwitchingFunction(True)\n",
    "force.setSwitchingDistance(0.8 * cutoff)\n",
    "force.setUseDispersionCorrection(True)\n",
    "force_index = system.addForce(force)\n",
    "\n",
    "# Define the ensemble to be simulated in.\n",
    "integrator = LangevinIntegrator(temperature, 1 / picosecond, 2 * femtoseconds)\n",
    "system.addForce(MonteCarloBarostat(pressure, temperature))\n",
    "\n",
    "# Define a simulation object.\n",
    "simulation = Simulation(topology, system, integrator)\n",
    "\n",
    "# Initialization steps before MD.\n",
    "# - Asign random positions\n",
    "simulation.context.setPositions(np.random.uniform(0, box_size / angstrom, (natom, 3)) * angstrom)\n",
    "# - Minimize the energy\n",
    "simulation.minimizeEnergy()\n",
    "# - Initialize velocities with random values at 300K.\n",
    "simulation.context.setVelocitiesToTemperature(300)"
   ]
  },
  {
   "cell_type": "code",
   "execution_count": null,
   "id": "582489b2-66c8-41b5-87d1-075e7e838489",
   "metadata": {},
   "outputs": [],
   "source": [
    "# Remove existing reporters, in case this cell is executed more than once.\n",
    "simulation.reporters = []\n",
    "\n",
    "# Write the initial geometry as a PDB file.\n",
    "positions = simulation.context.getState(getPositions=True).getPositions()\n",
    "with open(\"INITIAL_STATE_FILE.pdb\", \"w\") as f:\n",
    "    PDBFile.writeFile(simulation.topology, positions, f)\n",
    "\n",
    "# Write a frame to the DCD trajectory every 100 steps.\n",
    "simulation.reporters.append(DCDReporter(\"TRAJECTORY_FILE.dcd\", 100))\n",
    "\n",
    "# Write scalar properties to a CSV file every 10 steps.\n",
    "simulation.reporters.append(\n",
    "    StateDataReporter(\n",
    "        \"TRAJECTORY_SCALAR_FILE.csv\",\n",
    "        10,\n",
    "        time=True,\n",
    "        potentialEnergy=True,\n",
    "        totalEnergy=True,\n",
    "        temperature=True,\n",
    "        volume=True,\n",
    "    )\n",
    ")\n",
    "\n",
    "# Write scalar properties to screen every 1000 steps.\n",
    "simulation.reporters.append(\n",
    "    StateDataReporter(stdout, 1000, step=True, temperature=True, volume=True)\n",
    ")\n",
    "\n",
    "# Actually run the molecular dynamics simulation.\n",
    "simulation.step(STEPS_HERE)"
   ]
  },
  {
   "cell_type": "markdown",
   "id": "4cf5057f-54c7-401e-89c3-5395e7f47054",
   "metadata": {},
   "source": [
    "<div class=\"alert alert-block alert-info\"> \n",
    "<strong>2.5 (6 points)</strong>\n",
    "\n",
    "Repeat the visualization and plotting analysis from step 2.3. Try not to overwrite existing values.\n",
    "\n",
    "</div>  "
   ]
  },
  {
   "cell_type": "code",
   "execution_count": null,
   "id": "5e171ee4-ee93-4ac4-8a73-68fe2a9ba65a",
   "metadata": {},
   "outputs": [],
   "source": [
    "# Display trajectory"
   ]
  },
  {
   "cell_type": "code",
   "execution_count": null,
   "id": "b6a4668f-9e1d-4c6e-b4f4-05bc96141919",
   "metadata": {},
   "outputs": [],
   "source": [
    "# Read in trajectory scalar data to a pandas dataframe, view the first few rows"
   ]
  },
  {
   "cell_type": "code",
   "execution_count": null,
   "id": "14f15e34-4efd-431f-97b9-80bc97e0e522",
   "metadata": {},
   "outputs": [],
   "source": [
    "# Plot values to see change over time"
   ]
  },
  {
   "cell_type": "markdown",
   "id": "5386256e-b7bf-4ab6-ba79-133a73f7c83b",
   "metadata": {},
   "source": [
    "<div class=\"alert alert-block alert-info\"> \n",
    "<strong>2.6 (2 points)</strong>\n",
    "\n",
    "Comment on whether or not the system has equilibrated. If it has, explain at what point it has reached an equilibrium, and if it has not, explain why it is not and how you know this. Discuss the time it takes to equilibrate compared with the time it took at 298 K. \n",
    "\n",
    "</div>  "
   ]
  },
  {
   "cell_type": "markdown",
   "id": "ec408d3c-16d5-4fc0-82b0-e5b820ee9d89",
   "metadata": {},
   "source": []
  },
  {
   "cell_type": "markdown",
   "id": "6e085442-5d9f-4ce6-b552-8cafeb84014a",
   "metadata": {},
   "source": [
    "<div class=\"alert alert-block alert-info\"> \n",
    "<strong>2.7 (3 points)</strong>\n",
    "\n",
    "Calculate the average box size, temperature, total and potential energy over a range where the system is in equilibrium. You may need to reread in your data if you overwrote information in the original dataframe.\n",
    "\n",
    "</div>  "
   ]
  },
  {
   "cell_type": "code",
   "execution_count": null,
   "id": "f56a10f8-c56e-48c9-b95c-f78b8337a22b",
   "metadata": {},
   "outputs": [],
   "source": [
    "# Calculate the average of the numerical quantities in the dataframe for each of the simulations\n",
    "\n"
   ]
  },
  {
   "cell_type": "markdown",
   "id": "110e5d81-efb0-420e-b144-ea11d13c3102",
   "metadata": {},
   "source": [
    "<div class=\"alert alert-block alert-info\"> \n",
    "<strong>2.8 (2 points)</strong>\n",
    "\n",
    "Comment on the effect of the temperature change on the calculated parameters.  Do you see any evidence for a phase transition? Justify your answer.\n",
    "\n",
    "</div>  "
   ]
  },
  {
   "cell_type": "markdown",
   "id": "8b1fed5d-cec3-46a2-984d-39f6de743f84",
   "metadata": {},
   "source": []
  },
  {
   "cell_type": "markdown",
   "id": "b00ee30d-b076-48f6-b204-ce0b15820d12",
   "metadata": {},
   "source": [
    "# Final Thoughts\n",
    "\n",
    "This section is ungraded.\n",
    "\n",
    "<div class=\"alert alert-block alert-success\"> \n",
    "<strong>Academic Integrity Attestation</strong>\n",
    "\n",
    "*Please type your full name below to indicate your agreement to the following statement.*\n",
    "\n",
    "\"I affirm that work on this Quest represents my own knowledge, without the use of any unauthorized aids or resources. I understand that there will no tolerance towards academic dishonesty, and that cheating  will lead to an automatic 0 on the full Quest 1 (in-class and take-home with no opportunity to retake), and will be reported to the university.\"\n",
    "</div>"
   ]
  },
  {
   "cell_type": "markdown",
   "id": "4f73cd12-f957-4621-b369-f86bfb15276c",
   "metadata": {},
   "source": []
  },
  {
   "cell_type": "markdown",
   "id": "5974fa09-1963-4900-91c2-e835527d4cef",
   "metadata": {},
   "source": [
    "<div class=\"alert alert-block alert-success\"> \n",
    "Which questions did you find most difficult on this Quest. \n",
    "</div>"
   ]
  },
  {
   "cell_type": "markdown",
   "id": "c6d006aa-c622-4c90-ab34-9c32d79fe9f0",
   "metadata": {},
   "source": []
  },
  {
   "cell_type": "markdown",
   "id": "d5538e38-3dc1-4af7-b8db-5833c2b9700b",
   "metadata": {},
   "source": [
    "<div class=\"alert alert-block alert-success\"> \n",
    "What should be done differently for Quest 2?\n",
    "</div>"
   ]
  },
  {
   "cell_type": "markdown",
   "id": "bef6c4fe-4dcf-4569-8d79-5e4a7acb0f57",
   "metadata": {},
   "source": []
  }
 ],
 "metadata": {
  "kernelspec": {
   "display_name": "Python 3 (ipykernel)",
   "language": "python",
   "name": "python3"
  },
  "language_info": {
   "codemirror_mode": {
    "name": "ipython",
    "version": 3
   },
   "file_extension": ".py",
   "mimetype": "text/x-python",
   "name": "python",
   "nbconvert_exporter": "python",
   "pygments_lexer": "ipython3",
   "version": "3.11.9"
  }
 },
 "nbformat": 4,
 "nbformat_minor": 5
}
