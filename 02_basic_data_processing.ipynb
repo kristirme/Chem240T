{
 "cells": [
  {
   "cell_type": "markdown",
   "id": "5122e45e-9575-4347-b47a-1e4a38645a65",
   "metadata": {},
   "source": [
    "# Working with Data \n",
    "\n",
    "<div class=\"alert alert-block alert-info\">\n",
    "<h2>Overview</h2>\n",
    "\n",
    "Questions:\n",
    "\n",
    "* How do I work with numerical data presented in tables?\n",
    "* What is NumPy? What is pandas?\n",
    "* What is an array? What is a dataframe?\n",
    "\n",
    "Objectives:\n",
    "\n",
    "* Use functions in `numpy` to read in tabular data.\n",
    "* Take 2D slices of data in numpy arrays.\n",
    "* Use 2D slices to work with particular rows or columns of data.\n",
    "* Use the `range()` function in `for` loops.\n",
    "* Use `numpy` functions to analyze data.\n",
    "* Use `pandas` dataframes for more complex data.\n",
    "\n",
    "</div>\n",
    "\n",
    "Most scientists work with a lot of numerical data. In this module we will focus on reading in and analyzing numerical data, visualizing the data, and working with arrays.\n",
    "\n",
    "## Reading in Tabular Data\n",
    "\n",
    "In our last module, we used the `readlines()` function to read in a complex output file. In theory, you could always use the `readlines()` function, and then use the data parsing tools we learned in the previous module to format the data as you needed. But sometimes there are other ways that make more sense, particularly if the data is (1) all or mostly one type of data (for example, all numbers) and/or (2) formatted in a table. Frequently, a table will be mostly numbers, but have column or row labels.\n",
    "\n",
    "A common table format is the CSV file or comma separated values. Data is presented in rows, with each value separated by a comma. If you have data in a spreadsheet program that you need to import into a python code, you can save the data as a .csv file to read it in.\n",
    "\n",
    "In this example, we have a CSV file that contains data from a molecular dynamics trajectory. We have a 20 ns simulation that used a 2 fs timestep. The data was saved to the trajectory file every 1000 steps, so our file has 10,000 timesteps. At each timestep, we are interested in the distance between particular atoms. These trajectories were generated with the AMBER molecular dynamics program and the distances were measured with the python program MDAnalysis. The table of atomic distances was saved as a CVS file called “distance_data_headers.csv”. This file is included in the data folder. Open the file on ChemCompute to determine its structure.\n",
    "\n",
    "In analyzing tabular data, we often need to perform the same types of calculations (averaging, calculating the minimum or maximum of the data set), so we are going to use a python library, in this case, one that contains lots of functions to perform math operations. This library is called `numpy`. The `numpy` library has several functions available to read in tabular data. One of these functions is the `genfromtxt()` function. We will use the `help()` function to learn more about `genfromtxt()` and how it works. The help function can be used for nearly any built in python function and many libraries. When `numpy` is imported, it is often shortened to `np` as shown below:"
   ]
  },
  {
   "cell_type": "code",
   "execution_count": null,
   "id": "be0b9884-d2ee-448b-aa25-91dcd5f1f0c1",
   "metadata": {
    "scrolled": true
   },
   "outputs": [],
   "source": [
    "import numpy as np      #commonly shortened name for library\n",
    "help(np.genfromtxt) "
   ]
  },
  {
   "cell_type": "markdown",
   "id": "1a6a5176-da8c-4ed8-839d-d1f5b127aad1",
   "metadata": {},
   "source": [
    "The help menu shows us all the options we can use with this function. The first input `fname` is the filename we are reading in. We must put a value for this option because it does not have a default value. All the other options have a default value that is shown after the = sign. We only need to specify these options if we don’t want to use the default value. For example, in our file, all the values were not numbers so we don’t want to use the datatype `float`, we want to use something else. If you have mixed datatypes, like we do here, we want to use `'unicode'`. In our file, our values are separated by commas; we indicate that with `delimiter=','`.\n",
    "\n",
    "<div class=\"alert alert-block alert-success\"> \n",
    "<strong>Should you skip the headers?</strong>\n",
    "\n",
    "If you read the help information carefully, you may notice the `skip_header` option, where you can specify a number of lines to skip at the beginning of the file. If we did this, then our values would all be numbers and we could use dtype=’float’, which is the default. In this example, we are not going to do that because we might want to use the headers later to label things, but keep this option in mind because you might want to use it in a later project.\n",
    "\n",
    "</div>  \n",
    "\n",
    "Now we have have our plan, we are ready to import our data with `genfromtxt()`.\n",
    "\n",
    "First, we have to get the path to our file. Remember from previous lessons that we use the `os.path` module to do this."
   ]
  },
  {
   "cell_type": "code",
   "execution_count": null,
   "id": "658c9abb-060e-4a1f-af01-db80189259cc",
   "metadata": {},
   "outputs": [],
   "source": [
    "import os\n",
    "\n",
    "distance_file = os.path.join('data', 'distance_data_headers.csv')\n",
    "\n",
    "distances = np.genfromtxt(distance_file, delimiter=',', dtype='unicode')\n",
    "print(distances)"
   ]
  },
  {
   "cell_type": "markdown",
   "id": "9288a376-ffc4-4df3-91aa-af41142b5a5d",
   "metadata": {},
   "source": [
    "The output of this function is a list of lists; that is, each row is a entry in our list, but each row is itself a list of values. We can see that the first row is our column headings and all the other rows contain numerical data.\n",
    "\n",
    "If we were to read this in with the readlines() function, we would have to split each line of the file, use the `append` function to make a new list for each row, and THEN put all those lists together into a list of lists. Using the appropriate `numpy` function makes our life much easier.\n",
    "\n",
    "## Manipulating Tabular Data\n",
    "\n",
    "Now we can clearly see that our first line of data is headings for our columns, and will need to be stored as strings, whereas all the rest of the data is numerical and will need to be stored as floats. Let’s take a slice of the data that is just the headers."
   ]
  },
  {
   "cell_type": "code",
   "execution_count": null,
   "id": "e0ffbbf7-7282-426a-8bec-14a4432eab91",
   "metadata": {},
   "outputs": [],
   "source": [
    "headers = distances[0]\n",
    "print(headers)"
   ]
  },
  {
   "cell_type": "markdown",
   "id": "4fa119a8-b253-4464-a4e1-0bcd885e33c6",
   "metadata": {},
   "source": [
    "<div class=\"alert alert-block alert-warning\"> \n",
    "<strong>Check your understanding</strong>\n",
    "    \n",
    "Take a slice of the data that contains all the numerical values. Replace the '0' in the statement below with the appropriate range.\n",
    "\n",
    "</div>"
   ]
  },
  {
   "cell_type": "code",
   "execution_count": null,
   "id": "7024fd32-d717-41e3-92a8-4af707c32cdf",
   "metadata": {},
   "outputs": [],
   "source": [
    "data = distances[0]\n",
    "print(data)"
   ]
  },
  {
   "cell_type": "markdown",
   "id": "c004164d-82c3-42e9-aac5-b29508e0aa2f",
   "metadata": {},
   "source": [
    "Even though we now have a list of lists that is just the numbers, the numbers are all still strings. We know this because (1) we read them all in as unicode and (2) if we look at the output of the print statement, we can see that each number is enclosed in single quotes, indicating that it is a string. We need to recast these values as floats. The `numpy` library has a built-in function to accomplish this. In this case, keeping a variable with all the same information as strings is not useful to us, so this is a case where we are going to overwrite our variable data."
   ]
  },
  {
   "cell_type": "code",
   "execution_count": null,
   "id": "4727af3a-0e7d-4d4d-83e3-07de2dcea508",
   "metadata": {},
   "outputs": [],
   "source": [
    "data = data.astype(float)\n",
    "print(data)"
   ]
  },
  {
   "cell_type": "markdown",
   "id": "685dbbe5-6c22-45bd-8531-97579303c124",
   "metadata": {},
   "source": [
    "We already learned how to address a particular element of a list and how to take a slice of a list to create a new list. Now that we have an array, we now need two indices to address a particular element of the array. The notation to address an element of the array is always\n",
    "\n",
    "```python\n",
    " array_name[row,column]\n",
    "\n",
    "```\n",
    "<div class=\"alert alert-block alert-warning\"> \n",
    "<strong>Check your understanding</strong>\n",
    "    \n",
    "Before running the following cells, predict the outcome.\n",
    "</div>\n"
   ]
  },
  {
   "cell_type": "code",
   "execution_count": null,
   "id": "efe932f0-0ae1-4cf8-a987-2927ca2970d3",
   "metadata": {},
   "outputs": [],
   "source": [
    "print(data[0,1])\n",
    "print(data[1,0])"
   ]
  },
  {
   "cell_type": "markdown",
   "id": "ce5e1e4e-5604-4b3d-9ebd-128f3c387f20",
   "metadata": {},
   "source": [
    "You can also take two-dimensional slices of an array where you specify a range of rows and a range of columns for the slice. For example, sometimes it is easier to work with a small subset of our data for testing rather than the full data set. This command takes a slice that includes only the first ten rows and the first three columns of our data."
   ]
  },
  {
   "cell_type": "code",
   "execution_count": null,
   "id": "ded3feb6-78ef-4fd1-aa3b-b50160c75386",
   "metadata": {},
   "outputs": [],
   "source": [
    "small_data = data[0:10,0:3]\n",
    "print(small_data)"
   ]
  },
  {
   "cell_type": "markdown",
   "id": "54acd268-ad81-484c-9c31-d543f832f011",
   "metadata": {},
   "source": [
    "Remember that counting starts at zero, so 0:10 means start at row zero and include all rows, up to but not including 10. Just as with the one-dimensional list slices, if you don’t include a number before the `:` the slice automatically starts with `list_name[0]`. If you don’t include a number after the `:` the slice goes to the end of the list. Therefore, if you don’t include either, a `:` means *every row* or *every column\n",
    "\n",
    "Before running the following cells, predict the outcome."
   ]
  },
  {
   "cell_type": "code",
   "execution_count": null,
   "id": "8705e6a7-15bc-482f-9494-3cc2f386b1e6",
   "metadata": {},
   "outputs": [],
   "source": [
    "print(small_data[5,:])\n",
    "print(small_data[:,1:])"
   ]
  },
  {
   "cell_type": "markdown",
   "id": "8b10a860-6edf-4533-adfc-b04375f34bc7",
   "metadata": {},
   "source": [
    "## Analyzing Tabular Data\n",
    "\n",
    "The `numpy` library has numerous built-in functions. For example, to calculate the average (mean) of a data set, the syntax is\n",
    "```python\n",
    "data_average = numpy.mean(data_set)\n",
    "```\n",
    "\n",
    "Let’s say we want to calculate the average distance for a particular measurement over the whole simulation. We want to calculate the average of one of the columns. We can take a slice of our data array that is just one column. Then we can find the average of that column. It doesn’t make sense to average the frame numbers, so let’s do the THR4_ATP column first."
   ]
  },
  {
   "cell_type": "code",
   "execution_count": null,
   "id": "2cd3ca86-2c39-4745-8ed8-31e3a0270b0b",
   "metadata": {},
   "outputs": [],
   "source": [
    "thr4_atp = data[:,1]  # Every row, just the THR4_ATP column\n",
    "avg_thr4_atp = np.mean(thr4_atp)\n",
    "print(avg_thr4_atp)\n"
   ]
  },
  {
   "cell_type": "markdown",
   "id": "d1b6c102-3e75-4b45-94c0-aff52e843378",
   "metadata": {},
   "source": [
    "This is correct, but now we would like to calculate the average of every column. This seems like a job for a `for` loop, but unlike last time, we don’t want to count over a particular list and do something for every item, we want to do something a particular number of times. Basically, we want to take that `1` and let it be every number, up to the number of columns. This is a task for the `range()` function. The general syntax is\n",
    "```python\n",
    "range(start, end)\n",
    "\n",
    "```\n",
    "and we can use `range()` in a `for` loop.\n",
    "\n",
    "In our example, the “end” value needs to be the number of columns of data.\n",
    "\n",
    "<div class=\"alert alert-block alert-warning\"> \n",
    "<strong>Check your understanding</strong>\n",
    "    \n",
    "Complete the code below to determine the number of columns in our data set using the `len` function. Save this value as a variable called num_columns.\n",
    "\n",
    "</div>"
   ]
  },
  {
   "cell_type": "code",
   "execution_count": null,
   "id": "55628cd9-dca9-4919-86ee-859e3728c212",
   "metadata": {},
   "outputs": [],
   "source": [
    "num_columns = \n",
    "print(num_columns)"
   ]
  },
  {
   "cell_type": "markdown",
   "id": "c7bd6f06-16b0-4444-b172-cbc543798e49",
   "metadata": {},
   "source": [
    "Now that we know the number of columns, we can use the `range()` function to set up our `for` loop."
   ]
  },
  {
   "cell_type": "code",
   "execution_count": null,
   "id": "cb78f1dd-d2b0-4884-b420-576c703271a5",
   "metadata": {},
   "outputs": [],
   "source": [
    "for i in range(1,num_columns):\n",
    "    column = data[:,i]\n",
    "    avg_col = np.mean(column)\n",
    "    print(F'{headers[i]} : {avg_col}')"
   ]
  },
  {
   "cell_type": "markdown",
   "id": "fdff0c4c-d741-4e38-994e-19ca7d119fc3",
   "metadata": {},
   "source": [
    "## NumPy Arrays vs. Python Lists\n",
    "\n",
    "When using `numpy` to import your data a special data type called a numpy array is created. This is similar to the built in list functions in python that were used in the previous activities, but numpy arrays take up less space, are faster, and have more mathematical operations associated with them. All elements in a numpy array must be the same type.\n",
    "\n",
    "There are also differences in how lists and numpy arrays behave. Let’s look at some of these. We will start with reading in some data from an xyz file. The following block will read a file called water.xyz and saving two numpy arrays - one called coordinates with the molecular `coordinates`, and another called `symbols` with the element symbols."
   ]
  },
  {
   "cell_type": "code",
   "execution_count": null,
   "id": "8b66630a-35f6-4ea9-b208-9274b8e02bb3",
   "metadata": {},
   "outputs": [],
   "source": [
    "file_location = os.path.join('data', 'water.xyz')\n",
    "xyz_file = np.genfromtxt(file_location, skip_header=2, dtype='unicode')\n",
    "symbols = xyz_file[:,0]\n",
    "coordinates = (xyz_file[:,1:])\n",
    "coordinates = coordinates.astype(float)\n",
    "\n",
    "print(symbols)\n",
    "print(coordinates)\n"
   ]
  },
  {
   "cell_type": "markdown",
   "id": "c9a8acb1-605e-4b74-a06d-70586344c140",
   "metadata": {},
   "source": [
    "<div class=\"alert alert-block alert-warning\"> \n",
    "<strong>Check your understanding</strong>\n",
    "    \n",
    "Slice the `coordinates` array to create a new array called `oxygen_coord` which has the x, y, and z coordinate for the oxygen atom.\n",
    "\n",
    "</div>"
   ]
  },
  {
   "cell_type": "code",
   "execution_count": null,
   "id": "d6f5f283-a716-494a-8d4e-ee8fbbdcdbe2",
   "metadata": {},
   "outputs": [],
   "source": []
  },
  {
   "cell_type": "markdown",
   "id": "eeaf5a30-c5f7-4f23-ab89-fea79d90d4d8",
   "metadata": {},
   "source": [
    "Now that we have the oxygen coordinate, let’s imagine we wanted to do something to it. Let’s imagine that we wanted to translate the position of the oxygen atom. We want to translate it 0.1 units in the x direction and -0.1 units in the y direction.\n",
    "\n",
    "If we were writing for loops like we did before, we might do this by defining a translation vector and using a for loop."
   ]
  },
  {
   "cell_type": "code",
   "execution_count": null,
   "id": "adddc4dc-f530-4d38-9311-64728d79ef64",
   "metadata": {},
   "outputs": [],
   "source": [
    "translation_vector = [0.1, -0.1, 0]\n",
    "\n",
    "oxygen_coord_new = []\n",
    "\n",
    "for dim in range(3):\n",
    "    new_position = oxygen_coord[dim] + translation_vector[dim]\n",
    "    oxygen_coord_new.append(new_position)\n",
    "\n",
    "print(oxygen_coord_new)\n"
   ]
  },
  {
   "cell_type": "markdown",
   "id": "c98bcabf-138c-4c83-aad3-12b6b641b95a",
   "metadata": {},
   "source": [
    "However, since `oxygen_coord` is a numpy array, we can easily perform element-wise operations on numpy arrays without loops. You can make your code much faster if you use numpy element-by-element operations instead of loops.\n",
    "\n",
    "Numpy is smart. If two arrays (or a list and an array), it will guess that you want to do element-wise addition. In the `for` loop we just wrote, we actually wanted an answer that looked like `[x1+x2, y1+y2, z1+z2]` where [x1, x2, x3] was `oxygen_coord` and [y1, y2, y3] was `translation_vector`. Using the power of numpy arrays, we could have instead written"
   ]
  },
  {
   "cell_type": "code",
   "execution_count": null,
   "id": "a3f2880c-e036-49c3-9667-eaeefb156a02",
   "metadata": {},
   "outputs": [],
   "source": [
    "oxygen_coord_new = oxygen_coord + translation_vector\n",
    "print(oxygen_coord_new)\n"
   ]
  },
  {
   "cell_type": "markdown",
   "id": "684d355d-d258-4188-ab67-bc1098e14409",
   "metadata": {},
   "source": [
    "Numpy looked at the shape of both of these variables, saw they were the same shape, and assumed we wanted to do element-wise operation. You could have also subtracted, multiplied, or divided these, and it would have performed element-wise operations.\n",
    "\n",
    "Note, that this only worked because `oxygen_coord` was a `numpy` array."
   ]
  },
  {
   "cell_type": "code",
   "execution_count": null,
   "id": "814979a7-50fb-4ad2-bb66-42b9ddcbbcf2",
   "metadata": {},
   "outputs": [],
   "source": [
    "type(oxygen_coord)"
   ]
  },
  {
   "cell_type": "markdown",
   "id": "093fc46d-a58f-427c-a891-f8dee2a0b059",
   "metadata": {},
   "source": [
    "What happens if we try this with a list?"
   ]
  },
  {
   "cell_type": "code",
   "execution_count": null,
   "id": "0173a595-1f37-4c11-9725-be00fb6e6666",
   "metadata": {},
   "outputs": [],
   "source": [
    "oxygen_list = list(oxygen_coord)\n",
    "type(oxygen_list)\n"
   ]
  },
  {
   "cell_type": "code",
   "execution_count": null,
   "id": "9286ccc3-d8b7-4d91-89d0-b39c4f01b320",
   "metadata": {},
   "outputs": [],
   "source": [
    "oxygen_list + translation_vector"
   ]
  },
  {
   "cell_type": "markdown",
   "id": "44e22180-f938-4100-9357-9bea57da28eb",
   "metadata": {},
   "source": [
    "This process is called concatenation, where the two lists are just joined together. As a note, if you wanted to concatenate the two where `oxygen_coordinate` was a numpy array, you could have done so with the `np.concatenate` function.\n",
    "\n",
    "You can add two numpy arrays together, multiply arrays by scalars, or do element-wise multiplcation of arrays.\n",
    "\n",
    "For example, you can multiply two numpy arrays to get their element-wise product. This means that given two vectors `a = np.array([a0, a1, a2])` and `b = np.array([b0, b1, b2])`, `a * b = [a0*b0, a1*a1, a2*b2]`.\n",
    "\n",
    "In contrast, if `a`and `b` were lists, you would get an error.\n",
    "\n",
    "<div class=\"alert alert-block alert-warning\"> \n",
    "<strong>Check your understanding</strong>\n",
    "    \n",
    "Before running the follow cells, predict the outcome.\n",
    "\n",
    "</div>\n"
   ]
  },
  {
   "cell_type": "code",
   "execution_count": null,
   "id": "f4ce416f-8052-4bf1-a934-008b2c85c31f",
   "metadata": {},
   "outputs": [],
   "source": [
    "a1 = np.array([2, 1, 0])\n",
    "a2 = np.array([1, 3, 5])\n",
    "\n",
    "print(a1 * a2)\n",
    "print(a1 + a2)"
   ]
  },
  {
   "cell_type": "code",
   "execution_count": null,
   "id": "3686521b-9ad9-4c87-b372-80e4aef42858",
   "metadata": {},
   "outputs": [],
   "source": [
    "a1 = [2, 1, 0]\n",
    "a2 = [1, 3, 5]\n",
    "\n",
    "print(a1 + a2)\n",
    "print(a1 * a2)"
   ]
  },
  {
   "cell_type": "markdown",
   "id": "ad473992-432d-47d0-b78d-52c77d9e22ca",
   "metadata": {},
   "source": [
    "## Broadcasting\n",
    "\n",
    "Another special thing about numpy is something called **broadcasting**. Broadcasting occurs when you attempt mathematical operations on arrays that have different shapes. If possible, the smaller array is “broadcast” across the larger array.\n",
    "\n",
    "Let’s think about what would happen if we wanted to move every atom in our water molecule by our translation vector.\n",
    "\n",
    "If you were working with Python lists, or you didn’t know about the features of numpy arrays, you might try to do this with a `for` loop."
   ]
  },
  {
   "cell_type": "code",
   "execution_count": null,
   "id": "76d3ad12-fdf0-4ac3-b485-7e6260895f82",
   "metadata": {},
   "outputs": [],
   "source": [
    "new_coordinates = []\n",
    "\n",
    "for atom in coordinates:\n",
    "    new_x = atom[0] + translation_vector[0]\n",
    "    new_y = atom[1] + translation_vector[1]\n",
    "    new_z = atom[2] + translation_vector[2]\n",
    "    \n",
    "    new_coordinates.append([new_x, new_y, new_z])\n",
    "    \n",
    "print(new_coordinates)\n"
   ]
  },
  {
   "cell_type": "markdown",
   "id": "1b55b21a-21f8-4a79-a609-39b33dfb73f0",
   "metadata": {},
   "source": [
    "Broadcasting in `numpy` allows us to achieve that with one command, rather than a `for` loop."
   ]
  },
  {
   "cell_type": "code",
   "execution_count": null,
   "id": "436d3efc-1f82-46a5-ab31-8b95daee8959",
   "metadata": {},
   "outputs": [],
   "source": [
    "new_coordinates = coordinates + translation_vector\n",
    "\n",
    "print(new_coordinates)"
   ]
  },
  {
   "cell_type": "markdown",
   "id": "ea73ebef-7265-411f-a658-bf8b39e10b51",
   "metadata": {},
   "source": [
    "For this to work, we have to have two arrays that have a matching dimension. You can see the shape of an array using the function `np.shape`."
   ]
  },
  {
   "cell_type": "code",
   "execution_count": null,
   "id": "2cb3fb13-a264-4c03-81cd-dc8fbb7b210c",
   "metadata": {},
   "outputs": [],
   "source": [
    "np.shape(coordinates)"
   ]
  },
  {
   "cell_type": "code",
   "execution_count": null,
   "id": "a56dab77-1dc4-46a0-b7bb-48ecaf22ba16",
   "metadata": {},
   "outputs": [],
   "source": [
    "np.shape(translation_vector)"
   ]
  },
  {
   "cell_type": "markdown",
   "id": "ceddaff4-37ab-4db7-bd7f-0d0bb3ceb1dc",
   "metadata": {},
   "source": [
    "When you typed, `coordinates + translation_vector`, numpy looked at the shapes of both arrays to figure out if they were compatible.\n",
    "\n",
    "It starts with the dimensions to the right, so when it saw to matching 3’s it assumed you wanted to do element-wise operation this way, and stretched or ‘broadcast’ the smaller array to match the larger one.\n",
    "\n",
    "## Logical comparisons\n",
    "\n",
    "We can also do logical comparisons on whole arrays. For example, to find out if values in the array are greater than 0, we can write the following print statement, which will print either `True` or `False` for each array elelement depending on whehter it is greater than 0 or not."
   ]
  },
  {
   "cell_type": "code",
   "execution_count": null,
   "id": "33a8f1ea-2fa6-4457-a317-daeb315e73ec",
   "metadata": {},
   "outputs": [],
   "source": [
    "print(coordinates > 0)"
   ]
  },
  {
   "cell_type": "markdown",
   "id": "ca498552-5f5f-45dc-afe2-5d2b3df0abe3",
   "metadata": {},
   "source": [
    "To get every value in the array that is greater than 0, we can use this as a list of indices we want, or a slice."
   ]
  },
  {
   "cell_type": "code",
   "execution_count": null,
   "id": "4f02bd12-0091-4175-bdf1-2b57de1692aa",
   "metadata": {},
   "outputs": [],
   "source": [
    "greater_than_0_values = coordinates[coordinates>0]\n",
    "print(greater_than_0_values)"
   ]
  },
  {
   "cell_type": "markdown",
   "id": "6357d2e5-ef96-42f2-aa2f-f1d7ffef8cb3",
   "metadata": {},
   "source": [
    "## Array Axes\n",
    "\n",
    "Imagine we wanted to calculate the geometric center of our molecule. To do this, we would need to get the average x coordinate, the average y coordinate, and the average z coordinate.\n",
    "\n",
    "A `numpy` array can be thought of like a coordinates system. Axis 0 runs along the ROWS, while axis 1 runs along the COLUMNS."
   ]
  },
  {
   "cell_type": "code",
   "execution_count": null,
   "id": "a01c3b32-5e8a-450a-a6b4-192c60822247",
   "metadata": {},
   "outputs": [],
   "source": [
    "coordinates"
   ]
  },
  {
   "cell_type": "code",
   "execution_count": null,
   "id": "099d2e48-e5a2-4e84-9529-7270350e8251",
   "metadata": {},
   "outputs": [],
   "source": [
    "center = np.mean(coordinates, axis=0) # mean of each column\n",
    "print(center)\n"
   ]
  },
  {
   "cell_type": "code",
   "execution_count": null,
   "id": "ee346fc6-79e7-4822-8fee-69dc95e80a10",
   "metadata": {},
   "outputs": [],
   "source": [
    "center = np.mean(coordinates, axis=1) # mean of each row \n",
    "print(center)\n"
   ]
  },
  {
   "cell_type": "markdown",
   "id": "41ea69e0-dfc8-4b5f-a393-7b1b0154562d",
   "metadata": {},
   "source": [
    "<div class=\"alert alert-block alert-success\"> \n",
    "<strong>Key Points</strong>\n",
    "\n",
    "\n",
    "* NumPy arrays which are the same size use element-wise operations when added or subtracted\n",
    "* NumPy uses something called broadcasting for arrays which are not the same size to allow arrays to be added or multiplied.\n",
    "* NumPy has extensive documentation online - you should check this out if you need to do a computation.\n",
    "\n",
    "\n",
    "</div>  \n"
   ]
  },
  {
   "cell_type": "markdown",
   "id": "4ccbd596-f46d-4468-820f-18f1f393f99b",
   "metadata": {},
   "source": [
    "## What is pandas?\n",
    "\n",
    "Pandas is another Python package which is very popular for data analysis. The key feature of pandas is the `dataframe`. Here we will discuss dataframes and some basic analysis.\n",
    "\n",
    "NumPy is useful when you are working with data that is all numeric. Pandas, however, is capable of handling data of lots of different types. It is designed to make working with “relational” or “labeled” data easy and intuitive. Central to the `pandas` package are the special data structures called pandas Series and DataFrames. Pandas dataframes are 2 dimensional and tabular, and is particularly suited to data which is heterogenous and in columns, like an Excel spreadsheet. In fact, there are even functions which allow you to read data directly from excel spreadsheets (more on this later).\n",
    "\n",
    "Pandas is built to closely work with NumPy. Many functions which work on NumPy arrays will also work on Pandas DataFrames.\n",
    "\n",
    "First we need to load `pandas` it is often abbreviated as `pd`."
   ]
  },
  {
   "cell_type": "code",
   "execution_count": 1,
   "id": "8dbd42cf-c13f-4181-bc15-d4b9c3083fb5",
   "metadata": {},
   "outputs": [],
   "source": [
    "import pandas as pd\n"
   ]
  },
  {
   "cell_type": "markdown",
   "id": "be295b6f-25ce-4ef2-af4a-b1bcde7994bd",
   "metadata": {},
   "source": [
    "For this section, we will be working with a data set that contains information about the elements in the periodic table.The data is a csv (comma separated value) file from PubChem. \n",
    "\n",
    "### Reading Data\n",
    "\n",
    "Once you have the file downloaded and saved in your directory, we will load it into pandas. This file is a csv (comma separated value) file, so we will load it using the `pd.read_csv` command."
   ]
  },
  {
   "cell_type": "code",
   "execution_count": 2,
   "id": "7cdd231a-cb61-4397-9cb3-d669466a23f8",
   "metadata": {},
   "outputs": [],
   "source": [
    "periodic_data = pd.read_csv('data/PubChemElements_all.csv')"
   ]
  },
  {
   "cell_type": "markdown",
   "id": "d3e5aa31-bc82-4dd7-8638-da1a31350d5f",
   "metadata": {},
   "source": [
    "### Examining the Data\n",
    "\n",
    "The variable `periodic_data` is now a pandas DataFrame with the information contained in the csv file. You can examine the DataFrame using the `.head()` method. This shows the first 5 rows stored in the DataFrame."
   ]
  },
  {
   "cell_type": "code",
   "execution_count": 3,
   "id": "86d46d15-2a71-41a8-923d-c12dba6f81f8",
   "metadata": {},
   "outputs": [
    {
     "data": {
      "text/html": [
       "<div>\n",
       "<style scoped>\n",
       "    .dataframe tbody tr th:only-of-type {\n",
       "        vertical-align: middle;\n",
       "    }\n",
       "\n",
       "    .dataframe tbody tr th {\n",
       "        vertical-align: top;\n",
       "    }\n",
       "\n",
       "    .dataframe thead th {\n",
       "        text-align: right;\n",
       "    }\n",
       "</style>\n",
       "<table border=\"1\" class=\"dataframe\">\n",
       "  <thead>\n",
       "    <tr style=\"text-align: right;\">\n",
       "      <th></th>\n",
       "      <th>AtomicNumber</th>\n",
       "      <th>Symbol</th>\n",
       "      <th>Name</th>\n",
       "      <th>AtomicMass</th>\n",
       "      <th>CPKHexColor</th>\n",
       "      <th>ElectronConfiguration</th>\n",
       "      <th>Electronegativity</th>\n",
       "      <th>AtomicRadius</th>\n",
       "      <th>IonizationEnergy</th>\n",
       "      <th>ElectronAffinity</th>\n",
       "      <th>OxidationStates</th>\n",
       "      <th>StandardState</th>\n",
       "      <th>MeltingPoint</th>\n",
       "      <th>BoilingPoint</th>\n",
       "      <th>Density</th>\n",
       "      <th>GroupBlock</th>\n",
       "      <th>YearDiscovered</th>\n",
       "    </tr>\n",
       "  </thead>\n",
       "  <tbody>\n",
       "    <tr>\n",
       "      <th>0</th>\n",
       "      <td>1</td>\n",
       "      <td>H</td>\n",
       "      <td>Hydrogen</td>\n",
       "      <td>1.008000</td>\n",
       "      <td>FFFFFF</td>\n",
       "      <td>1s1</td>\n",
       "      <td>2.20</td>\n",
       "      <td>120.0</td>\n",
       "      <td>13.598</td>\n",
       "      <td>0.754</td>\n",
       "      <td>+1, -1</td>\n",
       "      <td>Gas</td>\n",
       "      <td>13.81</td>\n",
       "      <td>20.28</td>\n",
       "      <td>0.000090</td>\n",
       "      <td>Nonmetal</td>\n",
       "      <td>1766</td>\n",
       "    </tr>\n",
       "    <tr>\n",
       "      <th>1</th>\n",
       "      <td>2</td>\n",
       "      <td>He</td>\n",
       "      <td>Helium</td>\n",
       "      <td>4.002600</td>\n",
       "      <td>D9FFFF</td>\n",
       "      <td>1s2</td>\n",
       "      <td>NaN</td>\n",
       "      <td>140.0</td>\n",
       "      <td>24.587</td>\n",
       "      <td>NaN</td>\n",
       "      <td>0</td>\n",
       "      <td>Gas</td>\n",
       "      <td>0.95</td>\n",
       "      <td>4.22</td>\n",
       "      <td>0.000179</td>\n",
       "      <td>Noble gas</td>\n",
       "      <td>1868</td>\n",
       "    </tr>\n",
       "    <tr>\n",
       "      <th>2</th>\n",
       "      <td>3</td>\n",
       "      <td>Li</td>\n",
       "      <td>Lithium</td>\n",
       "      <td>7.000000</td>\n",
       "      <td>CC80FF</td>\n",
       "      <td>[He]2s1</td>\n",
       "      <td>0.98</td>\n",
       "      <td>182.0</td>\n",
       "      <td>5.392</td>\n",
       "      <td>0.618</td>\n",
       "      <td>+1</td>\n",
       "      <td>Solid</td>\n",
       "      <td>453.65</td>\n",
       "      <td>1615.00</td>\n",
       "      <td>0.534000</td>\n",
       "      <td>Alkali metal</td>\n",
       "      <td>1817</td>\n",
       "    </tr>\n",
       "    <tr>\n",
       "      <th>3</th>\n",
       "      <td>4</td>\n",
       "      <td>Be</td>\n",
       "      <td>Beryllium</td>\n",
       "      <td>9.012183</td>\n",
       "      <td>C2FF00</td>\n",
       "      <td>[He]2s2</td>\n",
       "      <td>1.57</td>\n",
       "      <td>153.0</td>\n",
       "      <td>9.323</td>\n",
       "      <td>NaN</td>\n",
       "      <td>+2</td>\n",
       "      <td>Solid</td>\n",
       "      <td>1560.00</td>\n",
       "      <td>2744.00</td>\n",
       "      <td>1.850000</td>\n",
       "      <td>Alkaline earth metal</td>\n",
       "      <td>1798</td>\n",
       "    </tr>\n",
       "    <tr>\n",
       "      <th>4</th>\n",
       "      <td>5</td>\n",
       "      <td>B</td>\n",
       "      <td>Boron</td>\n",
       "      <td>10.810000</td>\n",
       "      <td>FFB5B5</td>\n",
       "      <td>[He]2s2 2p1</td>\n",
       "      <td>2.04</td>\n",
       "      <td>192.0</td>\n",
       "      <td>8.298</td>\n",
       "      <td>0.277</td>\n",
       "      <td>+3</td>\n",
       "      <td>Solid</td>\n",
       "      <td>2348.00</td>\n",
       "      <td>4273.00</td>\n",
       "      <td>2.370000</td>\n",
       "      <td>Metalloid</td>\n",
       "      <td>1808</td>\n",
       "    </tr>\n",
       "  </tbody>\n",
       "</table>\n",
       "</div>"
      ],
      "text/plain": [
       "   AtomicNumber Symbol       Name  AtomicMass CPKHexColor  \\\n",
       "0             1      H   Hydrogen    1.008000      FFFFFF   \n",
       "1             2     He     Helium    4.002600      D9FFFF   \n",
       "2             3     Li    Lithium    7.000000      CC80FF   \n",
       "3             4     Be  Beryllium    9.012183      C2FF00   \n",
       "4             5      B      Boron   10.810000      FFB5B5   \n",
       "\n",
       "  ElectronConfiguration  Electronegativity  AtomicRadius  IonizationEnergy  \\\n",
       "0                   1s1               2.20         120.0            13.598   \n",
       "1                   1s2                NaN         140.0            24.587   \n",
       "2               [He]2s1               0.98         182.0             5.392   \n",
       "3               [He]2s2               1.57         153.0             9.323   \n",
       "4           [He]2s2 2p1               2.04         192.0             8.298   \n",
       "\n",
       "   ElectronAffinity OxidationStates StandardState  MeltingPoint  BoilingPoint  \\\n",
       "0             0.754          +1, -1           Gas         13.81         20.28   \n",
       "1               NaN               0           Gas          0.95          4.22   \n",
       "2             0.618              +1         Solid        453.65       1615.00   \n",
       "3               NaN              +2         Solid       1560.00       2744.00   \n",
       "4             0.277              +3         Solid       2348.00       4273.00   \n",
       "\n",
       "    Density            GroupBlock YearDiscovered  \n",
       "0  0.000090              Nonmetal           1766  \n",
       "1  0.000179             Noble gas           1868  \n",
       "2  0.534000          Alkali metal           1817  \n",
       "3  1.850000  Alkaline earth metal           1798  \n",
       "4  2.370000             Metalloid           1808  "
      ]
     },
     "execution_count": 3,
     "metadata": {},
     "output_type": "execute_result"
    }
   ],
   "source": [
    "periodic_data.head()"
   ]
  },
  {
   "cell_type": "markdown",
   "id": "dbf88642-73c7-47e7-8ba3-b95050ac48f8",
   "metadata": {},
   "source": [
    "Pandas has read the data into a table. The first row of the file was used for column headers.\n",
    "\n",
    "You can see the last 5 rows of the dataframe using the `.tail()` command. For example, to see the last 5 rows of our DataFrame, we would type"
   ]
  },
  {
   "cell_type": "code",
   "execution_count": null,
   "id": "42673e27-3c05-4efd-8e19-955a28702d45",
   "metadata": {},
   "outputs": [],
   "source": [
    "periodic_data.tail()"
   ]
  },
  {
   "cell_type": "markdown",
   "id": "04af01b2-9b61-4da9-a17f-71ceac288c61",
   "metadata": {},
   "source": [
    "You can also see information about the DataFrame using the `.info()` method.\n",
    "* First, the data type is listed. This is a pandas DataFrame. Next, it tells us that we have 118 rows (118 entries) in the DataFrame.\n",
    "* There are 17 columns of data\n",
    "* Next, the name of each column along with the number of entries for that column, and the data type for that column. Note that for some columns, such as `Electronegativity`, there are fewer than 118 entries. This occurs because data is missing for some elements. When `pandas` read in our data file, it replaced these missing values with `NaN` (or ‘not a number’).\n"
   ]
  },
  {
   "cell_type": "code",
   "execution_count": null,
   "id": "f427c320-85e5-426c-83c6-d2d763348eaf",
   "metadata": {},
   "outputs": [],
   "source": [
    "periodic_data.info()"
   ]
  },
  {
   "cell_type": "markdown",
   "id": "22eb128f-2b3e-4aba-bccd-c2fd9f852e34",
   "metadata": {},
   "source": [
    "We can also see descriptive statistics easily using the `.describe()` command. The describe function lists the `mean`, `max`, `min`, standard deviation and percentiles for each column excluding `NaN` values."
   ]
  },
  {
   "cell_type": "code",
   "execution_count": null,
   "id": "466f0db7-0337-470d-8e5d-d0b2d8cf7fa9",
   "metadata": {},
   "outputs": [],
   "source": [
    "periodic_data.describe()"
   ]
  },
  {
   "cell_type": "markdown",
   "id": "35be2753-1f18-477e-90c9-49012e1077b6",
   "metadata": {},
   "source": [
    "### Accessing data using row and column numbers\n",
    "\n",
    "Pandas DataFrames are organized using columns and index for the rows.\n",
    "\n",
    "To access data using the row number and column number, use the `.iloc` method. Data in pandas DataFrames can be accessed using slices in the same way as NumPy arrays using the `iloc` method."
   ]
  },
  {
   "cell_type": "code",
   "execution_count": null,
   "id": "2f49c58c-70b8-4e11-bf71-630c2a7c2b33",
   "metadata": {},
   "outputs": [],
   "source": [
    "# This will access row 35 (counting starting at 0)\n",
    "periodic_data.iloc[35]\n"
   ]
  },
  {
   "cell_type": "markdown",
   "id": "d813bdef-1915-4ae3-9b3a-949c0eaa6280",
   "metadata": {},
   "source": [
    "Or use slices."
   ]
  },
  {
   "cell_type": "code",
   "execution_count": null,
   "id": "6d003c4a-0b41-43c3-8791-639585340a46",
   "metadata": {},
   "outputs": [],
   "source": [
    "periodic_data.iloc[35:45]\n"
   ]
  },
  {
   "cell_type": "markdown",
   "id": "925f05ab-dcb8-4570-a425-6746f768e6d5",
   "metadata": {},
   "source": [
    "Like NumPy arrays, the second index is taken to be the column number."
   ]
  },
  {
   "cell_type": "code",
   "execution_count": null,
   "id": "cb361977-ae56-4669-9a66-1073992b0c01",
   "metadata": {},
   "outputs": [],
   "source": [
    "# This selects the row 1 and column 2.\n",
    "periodic_data.iloc[1, 2]"
   ]
  },
  {
   "cell_type": "markdown",
   "id": "e5812950-a17d-4ea3-a2cb-dbbe082b18d8",
   "metadata": {},
   "source": [
    "<div class=\"alert alert-block alert-warning\"> \n",
    "<strong>Check your understanding</strong>\n",
    "    \n",
    "Play around with using the iloc function to select different pieces of the data\n",
    "\n",
    "Ideas (you do not have to do these):\n",
    "* Select row 5\n",
    "* Select rows 30 to the end.\n",
    "* Select column 2 through 4 and rows 50 to the end, every other row.\n",
    "</div>"
   ]
  },
  {
   "cell_type": "code",
   "execution_count": null,
   "id": "6c767569-ec52-4fd0-99ae-1d8a40480156",
   "metadata": {},
   "outputs": [],
   "source": []
  },
  {
   "cell_type": "markdown",
   "id": "c06fb2eb-aa2d-4090-b4cd-aab4e03449c9",
   "metadata": {},
   "source": [
    "### Accessing information by name\n",
    "\n",
    "Indices in pandas can either be identified using numbers (as in the row number, similar to numpy arrays), or by name using column names and index names.\n",
    "\n",
    "Unless otherwise specified in the `read_csv` command, pandas will use the first row of the file as column names. You can use these column names to access data in a particular column.\n",
    "\n",
    "To see all of the column names, you can type"
   ]
  },
  {
   "cell_type": "code",
   "execution_count": null,
   "id": "9579dbfa-78dd-425d-a45c-168fbc2168ad",
   "metadata": {},
   "outputs": [],
   "source": [
    "periodic_data.columns"
   ]
  },
  {
   "cell_type": "markdown",
   "id": "0b80b605-8c72-436a-adcb-ba372defed0c",
   "metadata": {},
   "source": [
    "To access columns of data in pandas, you use the syntax\n",
    "```python\n",
    "dataframe_name['column name']\n",
    "````\n",
    "For example, to access the data in the Electronegativity column, we would use the syntax"
   ]
  },
  {
   "cell_type": "code",
   "execution_count": null,
   "id": "40d1705d-90ac-478d-a530-bc5e0f1d3cb3",
   "metadata": {},
   "outputs": [],
   "source": [
    "periodic_data['Electronegativity']"
   ]
  },
  {
   "cell_type": "markdown",
   "id": "fc393c19-1b82-406f-bac4-ba5aaa40b831",
   "metadata": {},
   "source": [
    "If you would like to select multiple columns of data, you put multiple column names in a list."
   ]
  },
  {
   "cell_type": "code",
   "execution_count": null,
   "id": "fb145b57-c71e-41a3-a940-ce19aeeeec0d",
   "metadata": {},
   "outputs": [],
   "source": [
    "periodic_data[['Name','Electronegativity']]"
   ]
  },
  {
   "cell_type": "markdown",
   "id": "eea7c654-2071-4baf-8c64-a290476f059d",
   "metadata": {},
   "source": [
    "<div class=\"alert alert-block alert-warning\"> \n",
    "<strong>Check your understanding</strong>\n",
    "    \n",
    "Select the columns ‘Name’, ‘AtomicMass’, and ‘StandardState’.\n",
    "\n",
    "</div>"
   ]
  },
  {
   "cell_type": "code",
   "execution_count": null,
   "id": "608b9961-e1c4-46f9-b430-31ee1a51f2e8",
   "metadata": {},
   "outputs": [],
   "source": []
  },
  {
   "cell_type": "markdown",
   "id": "51316d80-2899-47e0-aa1c-1b9ed98250c8",
   "metadata": {},
   "source": [
    "We have already discussed column names, but what about row names? By default, the names of the rows are the same as the numbers. You may have noticed that when you are printing your dataframes, there is an extra first column of numbers going from 0 to 118. These are the row names. Unless otherwise specified in the `read_csv` command, the row names will default to the row number.\n",
    "\n",
    "To access rows using the row name, use the `.loc` method. Currently our row names and numbers are the same, so this does not look any different than using `iloc` if only one index is specified."
   ]
  },
  {
   "cell_type": "code",
   "execution_count": null,
   "id": "c7d3b0c5-ae5c-4c6b-a428-6357a7b27728",
   "metadata": {},
   "outputs": [],
   "source": [
    "periodic_data.loc[35]"
   ]
  },
  {
   "cell_type": "markdown",
   "id": "12e1b64a-1b77-4bbc-b970-11a05817b4a3",
   "metadata": {},
   "source": [
    "However, now we can use the column name instead of the column number."
   ]
  },
  {
   "cell_type": "code",
   "execution_count": null,
   "id": "0bd3ee0b-64dc-48d5-a99d-c7b4f129e37c",
   "metadata": {},
   "outputs": [],
   "source": [
    "periodic_data.loc[35, 'YearDiscovered']"
   ]
  },
  {
   "cell_type": "markdown",
   "id": "f5ce70c9-5954-477d-9b43-7ae0d5f59b6e",
   "metadata": {},
   "source": [
    "Let’s see what happens when we change our index to one of our columns, so that we can use `loc` to access data by name. Imagine that we wanted to be able to access rows in our DataFrame using the element symbol. We will use the command `set_index` to do this. This will print your new DataFrame to the screen. You should notice that now the left most column is named ‘Symbol’ and lists the symbols for each element. Let’s try accessing `Kr` using `loc`."
   ]
  },
  {
   "cell_type": "code",
   "execution_count": null,
   "id": "e2d18008-4a4c-49c2-b254-19703a155006",
   "metadata": {},
   "outputs": [],
   "source": [
    "periodic_data.set_index('Symbol')"
   ]
  },
  {
   "cell_type": "code",
   "execution_count": null,
   "id": "6faf883d-087d-47b1-bbdc-6a0d3cb30697",
   "metadata": {},
   "outputs": [],
   "source": [
    "periodic_data.loc['Kr']"
   ]
  },
  {
   "cell_type": "markdown",
   "id": "5e852011-fc5c-4fb2-9d5f-962c6ead3952",
   "metadata": {},
   "source": [
    "It didn’t work! Why? Examine `periodic_data` again. The index is the same as before. This is because the `.set_index` method returns a new copy of the dataframe. If we wish to have later access to this copy, we have two options. \n",
    "\n",
    "1) We can capture the value in a variable (as in periodic_data_index = periodic_data.set_index('Symbol')). \n",
    "\n",
    "2) We might  chose to overwrite our existing dataframe. In pandas, you can do that by adding an additional argument to your `set_index` function. We can use the keyword argument `inplace=True`. When we use this argument, pandas will overwrite the original DataFrame. **Always look for this argument in pandas functions.**"
   ]
  },
  {
   "cell_type": "code",
   "execution_count": null,
   "id": "de152e82-ca3b-4b81-a2e8-96dacb123bc6",
   "metadata": {},
   "outputs": [],
   "source": [
    "periodic_data_symbols = periodic_data.set_index('Symbol')\n",
    "periodic_data_symbols.loc['Kr']"
   ]
  },
  {
   "cell_type": "markdown",
   "id": "edc0a33e-0f4c-4b54-a625-ef99dd606dec",
   "metadata": {},
   "source": [
    "This lists all the information for the entry. Note the bottom, where it says `Name: Kr, dtype: object`. `Kr` is what we used for the index.\n",
    "\n",
    "For option 2, overwiritng the dataframe could be done the following way:\n",
    "```python\n",
    "periodic_data.set_index('Symbol', inplace=True)\n",
    "```\n",
    "If you ever want change the index back it can be done one using\n",
    "\n",
    "```python\n",
    "periodic_data.reset_index(inplace=True)\n",
    "```\n",
    "This is a very important command. If you set another index without resetting the index, the `Symbol` column will be lost. This command reverts it back to a column.\n",
    "\n",
    "### Broadcasting\n",
    "\n",
    "Like NumPy arrays, pandas also takes advantage of broadcasting. You can add scalars or vectors to data easily.\n",
    "\n",
    "For example, we could calculate the melting point in celsius"
   ]
  },
  {
   "cell_type": "code",
   "execution_count": null,
   "id": "1329a202-c965-4c5e-b67a-09e0983b7f38",
   "metadata": {},
   "outputs": [],
   "source": [
    "periodic_data_symbols['MeltingPoint'] - 273.15"
   ]
  },
  {
   "cell_type": "markdown",
   "id": "3f078f12-d7d7-474e-aa09-74601627c4bc",
   "metadata": {},
   "source": [
    "If you would like to capture this in a new DataFrame column, you can do so easily by putting the new column name in square brackets following the DataFrame name."
   ]
  },
  {
   "cell_type": "code",
   "execution_count": null,
   "id": "b281b58b-f43b-49e8-9b2d-98d4f917a20d",
   "metadata": {},
   "outputs": [],
   "source": [
    "periodic_data_symbols['MeltingPointC'] = periodic_data_symbols['MeltingPoint'] - 273.15"
   ]
  },
  {
   "cell_type": "markdown",
   "id": "fd7f3b4f-abbd-45c9-bf06-40404bce20c7",
   "metadata": {},
   "source": [
    "<div class=\"alert alert-block alert-warning\"> \n",
    "<strong>Check your understanding</strong>\n",
    "    \n",
    "Make a new column in your DataFrame called ‘BoilingPointC’ where you have converted the boiling points from Kelvin to Celsius.\n",
    "\n",
    "</div>"
   ]
  },
  {
   "cell_type": "code",
   "execution_count": null,
   "id": "ceab769a-6ee6-46f5-8d7d-25dcf6981e9a",
   "metadata": {},
   "outputs": [],
   "source": []
  },
  {
   "cell_type": "markdown",
   "id": "ac486148-72f4-4059-9bb6-7026f105815f",
   "metadata": {},
   "source": [
    "But what if we wanted to use a function instead of a scalar? Imagine you had written the function below, which converts temperatures in Kelvin to Fahrenheit."
   ]
  },
  {
   "cell_type": "code",
   "execution_count": null,
   "id": "4af87945-5458-4334-ac4c-9725d93ba70c",
   "metadata": {},
   "outputs": [],
   "source": [
    "def kelvin_to_fahrenheit(kelvin_temp):\n",
    "    fahrenheit = (kelvin_temp - 273.15) * 9/5 +32\n",
    "    return fahrenheit"
   ]
  },
  {
   "cell_type": "markdown",
   "id": "ba519e88-bfbe-401f-abe1-68f266075d11",
   "metadata": {},
   "source": [
    "If you wanted to apply this function to every row, your first instinct might be to write a `for` loop. This would work, but pandas has a built in method called `apply` to easily allow you to do this.\n",
    "\n",
    "When you call the `apply` method, you give it a function name which you would like to apply to every element of whatever you are using it on."
   ]
  },
  {
   "cell_type": "code",
   "execution_count": null,
   "id": "5ddf4268-a9f0-4699-8ccf-11f3085bb930",
   "metadata": {},
   "outputs": [],
   "source": [
    "# Calculate the boiling point in fahrenheit\n",
    "periodic_data_symbols['BoilingPoint'].apply(kelvin_to_fahrenheit)"
   ]
  },
  {
   "cell_type": "code",
   "execution_count": null,
   "id": "f8a021b1-512a-40e1-9816-3c4e48671d22",
   "metadata": {},
   "outputs": [],
   "source": [
    "# Save as a new column\n",
    "periodic_data['BoilingPointF'] = periodic_data['BoilingPoint'].apply(kelvin_to_fahrenheit)"
   ]
  },
  {
   "cell_type": "markdown",
   "id": "03108bb0-491d-40bc-86ad-6e1482b908da",
   "metadata": {},
   "source": [
    "### Saving your new dataframe\n",
    "\n",
    "If you wanted to save your data as a csv, you could do it using the command `to_csv`. Run this command and verify the new file is generated."
   ]
  },
  {
   "cell_type": "code",
   "execution_count": null,
   "id": "ba43de79-1c56-4576-9035-018486f2be18",
   "metadata": {},
   "outputs": [],
   "source": [
    "periodic_data_symbols.to_csv('periodic_data_processed.csv')"
   ]
  },
  {
   "cell_type": "markdown",
   "id": "1fff0812-44de-4ce8-a993-d10f7ca7f558",
   "metadata": {},
   "source": [
    "### Filtering and sorting your DataFrame\n",
    "\n",
    "You can use the function `.query` to query your data. You type a logical expression in a string inside of the function.\n",
    "\n",
    "For example, to find all of the elements with a melting point greater than 298."
   ]
  },
  {
   "cell_type": "code",
   "execution_count": null,
   "id": "86e1f4da-dd2a-4dd5-ad3b-48fe0457c73d",
   "metadata": {},
   "outputs": [],
   "source": [
    "periodic_data.query('MeltingPoint > 298')"
   ]
  },
  {
   "cell_type": "markdown",
   "id": "afd617ec-99e2-4cba-a3a8-7531adee7e27",
   "metadata": {},
   "source": [
    "You can combine several statements, or use to compare two columns."
   ]
  },
  {
   "cell_type": "code",
   "execution_count": null,
   "id": "72399b70-50f5-4ea2-a94e-38a1b529d475",
   "metadata": {},
   "outputs": [],
   "source": [
    "periodic_data.query('MeltingPoint > 298 and BoilingPoint < 500')\n"
   ]
  },
  {
   "cell_type": "code",
   "execution_count": null,
   "id": "2be4a5e1-c783-44bd-b6a1-4ed4c76175bb",
   "metadata": {},
   "outputs": [],
   "source": [
    "periodic_data.query('MeltingPoint > BoilingPoint')\n"
   ]
  },
  {
   "cell_type": "markdown",
   "id": "c52fdb92-084b-4daf-9c77-0eaca8d2034b",
   "metadata": {},
   "source": [
    "To sort data, you can use the `sort_values` function.\n",
    "\n",
    "This will sort the rows (axis=0) by the values in the ‘MeltingPoint’ column. If you are familiar with Excel, this is similar to how spreadsheets are sorted if you sort based on one of the columns. This sort will return a DataFrame where elements with the lowest melting point are listed first.\n",
    "\n"
   ]
  },
  {
   "cell_type": "code",
   "execution_count": null,
   "id": "6707762b-df33-4bb1-a63d-3793f73bc166",
   "metadata": {},
   "outputs": [],
   "source": [
    "periodic_data.sort_values(by='MeltingPoint')"
   ]
  },
  {
   "cell_type": "markdown",
   "id": "d2dd9cc1-d3d8-4bb7-9e0a-ba3a47f9c334",
   "metadata": {},
   "source": [
    "## Plotting with Pandas\n",
    "\n",
    "One way to examine data visually is looking at a histogram plot.\n",
    "\n",
    "Pandas DataFrames have several built-in plotting functions, one of which is `.hist`. If we call this function on just a DataFrame, it will make a histogram for each column of data.\n",
    "\n",
    "In our case, we are interested in the histogram for the boiling point."
   ]
  },
  {
   "cell_type": "code",
   "execution_count": 4,
   "id": "bf572ede-e22c-476d-9fe6-eabdf1e3e543",
   "metadata": {},
   "outputs": [
    {
     "data": {
      "text/plain": [
       "array([[<Axes: title={'center': 'BoilingPoint'}>]], dtype=object)"
      ]
     },
     "execution_count": 4,
     "metadata": {},
     "output_type": "execute_result"
    },
    {
     "data": {
      "image/png": "[encoded data removed]",
      "text/plain": [
       "<Figure size 640x480 with 1 Axes>"
      ]
     },
     "metadata": {},
     "output_type": "display_data"
    }
   ],
   "source": [
    "periodic_data.hist(column='BoilingPoint')"
   ]
  },
  {
   "cell_type": "markdown",
   "id": "cd44dff0-a383-4af8-83ac-a64a27465727",
   "metadata": {},
   "source": [
    "It is also possible to plot data from a histogram based on categorical data. In this case we use the column containing the Standard State."
   ]
  },
  {
   "cell_type": "code",
   "execution_count": null,
   "id": "6f152370-24c5-4bb3-847d-d875447d3342",
   "metadata": {},
   "outputs": [],
   "source": [
    "periodic_data.hist(column='BoilingPoint', by='StandardState')"
   ]
  },
  {
   "cell_type": "markdown",
   "id": "262e374d-f105-4eb2-8893-157c69d539dd",
   "metadata": {},
   "source": [
    "As you can see that this is a little hard to read. It would be possible to make this plot more readable, but we will not cover that in this lesson.\n",
    "\n",
    "Another plotting option you might have chosen for this data was a boxplot"
   ]
  },
  {
   "cell_type": "code",
   "execution_count": null,
   "id": "74649d27-5f39-40b1-9691-8621f803503e",
   "metadata": {},
   "outputs": [],
   "source": [
    "periodic_data.boxplot(column='BoilingPoint', by='StandardState', rot=90)"
   ]
  },
  {
   "cell_type": "markdown",
   "id": "83b7ea02-8f6d-41b8-b1ff-ae1d087e45b0",
   "metadata": {},
   "source": [
    "<div class=\"alert alert-block alert-success\"> \n",
    "<strong>Key Points</strong>\n",
    "\n",
    "\n",
    "* Pandas stores data in a structure called a dataframe\n",
    "* Pandas can read data that has lots of different data types.\n",
    "* You can easily get statistics from a dataframe by using methods like df.describe()\n",
    "\n",
    "\n",
    "\n",
    "</div>  "
   ]
  },
  {
   "cell_type": "code",
   "execution_count": null,
   "id": "2a2fab80-cba5-462e-9a7c-b5e70dab1cf7",
   "metadata": {},
   "outputs": [],
   "source": []
  }
 ],
 "metadata": {
  "kernelspec": {
   "display_name": "Python 3 (ipykernel)",
   "language": "python",
   "name": "python3"
  },
  "language_info": {
   "codemirror_mode": {
    "name": "ipython",
    "version": 3
   },
   "file_extension": ".py",
   "mimetype": "text/x-python",
   "name": "python",
   "nbconvert_exporter": "python",
   "pygments_lexer": "ipython3",
   "version": "3.11.9"
  }
 },
 "nbformat": 4,
 "nbformat_minor": 5
}
