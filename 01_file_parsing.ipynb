{
 "cells": [
  {
   "cell_type": "markdown",
   "id": "a9ed6087-b295-47b5-9d4c-c3884af691dd",
   "metadata": {},
   "source": [
    "\n",
    "# File Parsing\n",
    "\n",
    "<div class=\"alert alert-block alert-info\">\n",
    "<h2>Overview</h2>\n",
    "\n",
    "Questions:\n",
    "* How do I sort through all the information in a text file and extrac particular pieces of information?\n",
    "\n",
    "Objectives:\n",
    "* Open a file and read in contents\n",
    "* Search for a particular string\n",
    "* Manipulate strings and change data types\n",
    "* Print to a new file\n",
    "\n",
    "</div>\n"
   ]
  },
  {
   "cell_type": "markdown",
   "id": "aacca082-7540-4a0a-8157-66c0d0dca57a",
   "metadata": {},
   "source": [
    "## Working with files\n",
    "\n",
    "One of the most common tasks in research is analyzing data. Many computational chemistry programs output text files that include a large amount of information including text and data that you need to analyze. Often, you need to sort through the output file and identify particular pieces of information that are most important to you. In general, this is called file parsing.\n",
    "\n",
    "### Working with file paths - the `os.path` module\n",
    "\n",
    "For this section, we will be working with the file `ethanol.out` in the `outfiles` directory.\n",
    "\n",
    "To see this, go to a new cell and type `ls`. `ls` stands for ‘list’, and will list all of the contents of the current directory. **This command is not a Python command, but will work in the Jupyter notebook**. To see everything in the `data` directory, type"
   ]
  },
  {
   "cell_type": "code",
   "execution_count": null,
   "id": "e975de92-42f2-4f59-9a4a-aee62c6e32d5",
   "metadata": {},
   "outputs": [],
   "source": [
    "ls data"
   ]
  },
  {
   "cell_type": "markdown",
   "id": "898a2287-fcd0-4ef7-8fa8-520f7516659e",
   "metadata": {},
   "source": [
    "Here, `outfiles` is another directory.\n",
    "\n",
    "In order to parse a file, you must tell Python the location of the file, or the “file path”. For example, you can see what folder your Jupyter notebook is in by typing `pwd` into a cell in your notebook and evaluating it. `pwd` stands for ‘print working directory’, and can also be used in your terminal to see what directory you’re in."
   ]
  },
  {
   "cell_type": "code",
   "execution_count": null,
   "id": "310ae89c-56c0-46a0-939b-d2ea4046fc94",
   "metadata": {},
   "outputs": [],
   "source": [
    "pwd"
   ]
  },
  {
   "cell_type": "markdown",
   "id": "196d355e-bf72-47cd-ace2-b2a3c009722f",
   "metadata": {},
   "source": [
    "When we write a script, we want it to be usable on any operating system, thus we will use a python module called os.path that will allow us to define file paths in a general way.\n",
    "\n",
    "In order to get the path to the `ethanol.out` file in a general way, type"
   ]
  },
  {
   "cell_type": "code",
   "execution_count": null,
   "id": "713cc671-1613-4f63-b858-036aa105a124",
   "metadata": {},
   "outputs": [],
   "source": [
    "import os\n",
    "\n",
    "ethanol_file = os.path.join('data', 'outfiles', 'ethanol.out')\n",
    "print(ethanol_file)"
   ]
  },
  {
   "cell_type": "markdown",
   "id": "a9ac43d7-3786-49f8-9ab7-5e5c0a376805",
   "metadata": {},
   "source": [
    "<div class=\"alert alert-block alert-success\"> \n",
    "<strong>Absolute and relative paths</strong>\n",
    "\n",
    "File paths can be absolute, or relative.\n",
    "\n",
    "A relative file path gives the location relative to the directory we are in. Thus, if we are in the `Chem240T` directory, the relative filepath for the `ethanol.out` file would be `data/ethanol.out`\n",
    "\n",
    "An absolute filepath gives the complete path to a file. This could file path could be used from anywhere on a computer, and would access the same file. For example, the absolute filepath to the `ethanol.out` file on a Mac might be `Users/YOUR_USER_NAME/Desktop/Chem240T/data/ethanol.out`. You can get the absolute path of a file using `os.path.abspath(path)`, where path is the relative path of the file.\n",
    "</div>    "
   ]
  },
  {
   "cell_type": "markdown",
   "id": "0f25470b-7464-4827-9fb1-923e8f36ac4e",
   "metadata": {},
   "source": [
    "<div class=\"alert alert-block alert-success\"> \n",
    "<strong>Python `pathlib`</strong>\n",
    "\n",
    "We are working with the `os.path` module here, and this is how you will see people handle file paths in most Python code. However, as of Python 3.6, there is also a `pathlib` module in the Python standard library that can be used to represent and manipulate filepaths. `os.path` works with filepaths as strings, while in the `pathlib` module, paths are objects. \n",
    "\n",
    "</div>    "
   ]
  },
  {
   "cell_type": "markdown",
   "id": "8fe2d0c2-5eee-4b7f-9ecd-ba84c95cd33b",
   "metadata": {},
   "source": [
    "## Reading a file\n",
    "\n",
    "In Python, there are many ways in python to read in information from a text file. The best method to use depends on the type of data and the type of analysis you are performing. If you have a file with lots of different types of information, text and numbers, with different types of formatting, the most generic way to read in information is the `readlines()` function. Before you can read in a file, you have to open the file using the file path we defined above. This will create a file object, or filehandle. The file we will be analyzing in this example is a PSI4 output file for a SCF/cc-pVDZ energy calculation for an ethanol molecule."
   ]
  },
  {
   "cell_type": "code",
   "execution_count": null,
   "id": "a511f0db-1fe2-42a1-b846-dd5e22d667e3",
   "metadata": {},
   "outputs": [],
   "source": [
    "outfile = open(ethanol_file,\"r\")\n",
    "data = outfile.readlines()"
   ]
  },
  {
   "cell_type": "markdown",
   "id": "f28db815-7c0d-469d-858c-86ca0148e385",
   "metadata": {},
   "source": [
    "This code opens a file for reading and assigns it to the filehandle `outfile`. The `r` argument in the function stands for `read`. Other arguments might be `w` for `write` if we want to write new information to the file, or `a` for append if we want to add new information at the end of the file.\n",
    "\n",
    "In the next line, we use the `readlines` function to get our file as a list of strings. Notice the dot notation introduced last lesson; readlines acts on the file object given right before the dot. The function creates a list called data where each element of the list is a string that is one line of the file. This is always how the `readlines()` function works.\n",
    "\n",
    "<div class=\"alert alert-block alert-success\"> \n",
    "<strong>`readlines` function behavior</strong>\n",
    "\n",
    "Note that the `readlines` function can only be used on a file object one time. If you forget to set `outfile.readlines()` equal to a variable, you must `open` the file again in order to get the contents of the file.\n",
    "\n",
    "</div>    "
   ]
  },
  {
   "cell_type": "code",
   "execution_count": null,
   "id": "066d4958-1046-4621-a52b-a56ad65a0af6",
   "metadata": {},
   "outputs": [],
   "source": [
    "outfile.close()"
   ]
  },
  {
   "cell_type": "markdown",
   "id": "bd2d83de-151c-412e-928b-29f55a40a955",
   "metadata": {},
   "source": [
    "<div class=\"alert alert-block alert-success\"> \n",
    "<strong>An alternative way to open a file.</strong>\n",
    "\n",
    "Alternatively, you can open a file using `context-manager`. In this case, the context manager will automatically handle closing of the file. To use a context manager to open and close the file, you use the word `with`, and put everything you want to be done while the file is open in an indented block.\n",
    "\n",
    "This is often the preferred way to deal with files because you do not have to remember to close the file.\n",
    "\n",
    "</div>    "
   ]
  },
  {
   "cell_type": "code",
   "execution_count": null,
   "id": "d3a64e7e-0e92-4c87-8f84-7d1d37fdd434",
   "metadata": {},
   "outputs": [],
   "source": [
    "with open(ethanol_file,\"r\") as outfile:\n",
    "    data = outfile.readlines()"
   ]
  },
  {
   "cell_type": "markdown",
   "id": "80dde121-b28c-4374-b5fc-9936ba7d1b4b",
   "metadata": {},
   "source": [
    "<div class=\"alert alert-block alert-warning\"> \n",
    "<strong>Check your understanding</strong>\n",
    "    \n",
    "Check that your file was read in correctly by determining how many lines are in the file.\n",
    "\n",
    "</div>"
   ]
  },
  {
   "cell_type": "code",
   "execution_count": null,
   "id": "ec660bd5-1e4e-4790-841a-5bd12ee85ef5",
   "metadata": {},
   "outputs": [],
   "source": []
  },
  {
   "cell_type": "markdown",
   "id": "36a1d736-7b5f-47ac-8879-01a5e9624148",
   "metadata": {},
   "source": [
    "## Searching for a pattern in your file\n",
    "\n",
    "The file we opened is an output file which calculates the energy (and a lot of other stuff!) for an ethanol molecule. As stated previously, the readlines() function put the file contents into a list where each element is a line of the file. You may remember from lesson 1 that a for loops can be used to execute the same code repeatedly. As we learned in the previous lesson, we can use a for loop to iterate through elements in a list.\n",
    "\n",
    "Let’s take a look at what’s in the file."
   ]
  },
  {
   "cell_type": "code",
   "execution_count": null,
   "id": "e7563b8a-3c6e-4377-8df9-7980d3a8b965",
   "metadata": {},
   "outputs": [],
   "source": [
    "for line in data:\n",
    "    print(line)"
   ]
  },
  {
   "cell_type": "markdown",
   "id": "df2becc0-84a2-4ac6-8a78-ecc9bf55d4a4",
   "metadata": {},
   "source": [
    "This will print exactly what is in the file.\n",
    "\n",
    "If you look through the output, you will see that the critical line says “Final Energy”. We want to search through this file and find that line, and print only that line. We can do this using an `if` statement.\n",
    "\n",
    "Returning to our file example,"
   ]
  },
  {
   "cell_type": "code",
   "execution_count": null,
   "id": "44c76b31-755f-403e-bc87-516676fd0374",
   "metadata": {},
   "outputs": [],
   "source": [
    "for line in data:\n",
    "    if 'Final Energy' in line:\n",
    "        energy_line = line\n",
    "        print(energy_line)"
   ]
  },
  {
   "cell_type": "markdown",
   "id": "99e5d620-30a5-4eae-8ccf-0bd590b4974b",
   "metadata": {},
   "source": [
    "Remember that `readlines()` saves each line of the file as a string, so `energy_line` is a string that contains the whole line. For our analysis, if we are most interested in the energy, we need to split up the line so we can save just the number as a different variable name. To do this, we use a new function called `split`. The `split` function takes a string and divides it into its components using a *delimiter*.\n",
    "\n",
    "The delimiter is specified as an argument to the function (put in the parenthesis `()`). If you do not specify a *delimiter*, a space is used by default. Let’s try this out."
   ]
  },
  {
   "cell_type": "code",
   "execution_count": null,
   "id": "9482880f-a6ab-43b9-8acc-6ec8eee5710a",
   "metadata": {},
   "outputs": [],
   "source": [
    "energy_line.split()"
   ]
  },
  {
   "cell_type": "markdown",
   "id": "093fafdc-d420-4712-b669-a7ecc4e31efb",
   "metadata": {},
   "source": [
    "Or, we can use the colon (‘:’) as the delimiter."
   ]
  },
  {
   "cell_type": "code",
   "execution_count": null,
   "id": "89a6f81b-e627-4e96-88d8-3e58f42a96e4",
   "metadata": {},
   "outputs": [],
   "source": [
    "energy_line.split(':')"
   ]
  },
  {
   "cell_type": "markdown",
   "id": "e47b1140-af17-4fdb-b6b6-5fee62870a1e",
   "metadata": {},
   "source": [
    "When we use ‘:’ as the delimiter, a list with two elements is returned. It is split where a colon was found.\n",
    "\n",
    "We can save the output of this function to a variable as a new list. In the example below, we take the line we found in the `for` loop and split it up into its individual words."
   ]
  },
  {
   "cell_type": "code",
   "execution_count": null,
   "id": "2b1a996e-2526-4545-b8f1-30a3e5612a83",
   "metadata": {},
   "outputs": [],
   "source": [
    "words = energy_line.split()\n",
    "print(words)"
   ]
  },
  {
   "cell_type": "markdown",
   "id": "2b974471-86fc-4cf2-bf23-59c1c8db369a",
   "metadata": {},
   "source": [
    "From this `print` statement, we now see that we have a list called words, where we have split `energy_line`. The energy is actually the fourth element of this list, so we can now save it as a new variable."
   ]
  },
  {
   "cell_type": "code",
   "execution_count": null,
   "id": "04fd1c60-623b-4e27-8b2b-698a5070ef76",
   "metadata": {},
   "outputs": [],
   "source": [
    "energy = words[3]\n",
    "print(energy)"
   ]
  },
  {
   "cell_type": "markdown",
   "id": "b0151e31-5e1e-4149-b85c-24573e5bbd82",
   "metadata": {},
   "source": [
    "We also recogize that “energy” is the last element of the list. Therefore, an alternative way to assign energy is:"
   ]
  },
  {
   "cell_type": "code",
   "execution_count": null,
   "id": "2a74271f-a660-4d42-9116-d22e0c420da8",
   "metadata": {},
   "outputs": [],
   "source": [
    "energy = words[-1]\n",
    "print(energy)\n"
   ]
  },
  {
   "cell_type": "markdown",
   "id": "9552a333-6c7d-466d-b61a-a7b4fb362ebb",
   "metadata": {},
   "source": [
    "In the example above, the index value of -1 gives the last element, and -2 would give the second last element of a list, and so on."
   ]
  },
  {
   "cell_type": "markdown",
   "id": "f38817c1-9498-4f4d-b0ea-c00311538645",
   "metadata": {},
   "source": [
    "If we now try to do a math operation on energy, we get an error message? Why do you think that is?"
   ]
  },
  {
   "cell_type": "code",
   "execution_count": null,
   "id": "1286fc2e-9344-486c-b1c3-37deff9775d2",
   "metadata": {},
   "outputs": [],
   "source": [
    "energy + 50"
   ]
  },
  {
   "cell_type": "markdown",
   "id": "563fdbf9-b7aa-497e-b8a2-79234f004192",
   "metadata": {},
   "source": [
    "Even though `energy` looks like a number to us, it is really a string, so we can not add an integer to it. We need to change the data type of energy to a float. This is called *casting*."
   ]
  },
  {
   "cell_type": "code",
   "execution_count": null,
   "id": "59d0608e-e6bd-4804-beda-749458c4fd61",
   "metadata": {},
   "outputs": [],
   "source": [
    "energy = float(energy)"
   ]
  },
  {
   "cell_type": "markdown",
   "id": "d67cc381-aa02-497c-86fa-63eb13d5b5ee",
   "metadata": {},
   "source": [
    "Now it will work. If we thought ahead we could have changed the data type when we assigned the variable originally."
   ]
  },
  {
   "cell_type": "code",
   "execution_count": null,
   "id": "e6655751-f2f0-4f40-b4c3-2736a5095a50",
   "metadata": {},
   "outputs": [],
   "source": [
    "energy = float(words[3])"
   ]
  },
  {
   "cell_type": "markdown",
   "id": "1f684359-1764-408d-8a43-485c453e423e",
   "metadata": {},
   "source": [
    "<div class=\"alert alert-block alert-warning\"> \n",
    "<strong>Check your understanding</strong>\n",
    "    \n",
    "Use the provided sapt.out file. In this output file, the program calculates the interaction energy for an ethene-ethyne complex. The output reports four interaction energy components: electrostatics, induction, exchange, and dispersion. Parse each of these energies, in kcal/mole, from the output file. (Hint: study the file in a text editor to help you decide what to search for.) Calculate the total interaction energy by adding the four components together. Your code’s output should look something like this:\n",
    "\n",
    "`Electrostatics : -2.25850118 kcal/mol`\n",
    "\n",
    "`Exchange : 2.27730198 kcal/mol`\n",
    "\n",
    "`Induction : -0.5216933 kcal/mol`\n",
    "\n",
    "`Dispersion : -0.9446677 kcal/mol`\n",
    "\n",
    "`Total Energy : 1.4475602000000003 kcal/mol`\n",
    "\n",
    "</div>"
   ]
  },
  {
   "cell_type": "code",
   "execution_count": null,
   "id": "144c395a-5bbf-4ae0-b5a0-0a8b748d5d51",
   "metadata": {},
   "outputs": [],
   "source": []
  },
  {
   "cell_type": "markdown",
   "id": "493c39d4-5289-4475-a156-c8e4c7529172",
   "metadata": {},
   "source": [
    "## Searching for a particular line number in your file\n",
    "\n",
    "There is a lot of other information in the output file we might be interested in. For example, We might want to pull out the initial coordinates for the molecule. If we look through the file in a text editor, we notice that the coordinates begin with a line that says\n",
    "\n",
    "Center X Y Z Mass\n",
    "\n",
    "and then the coordinates begin on the next line. In this case, we don’t want to pull something out of this line, as we did in our previous example, but we want to know which line of the file this is so that we can then pull the coordinates from the next few lines.\n",
    "\n",
    "When you use a for loop, it is easy to have python keep up with the line numbers using the `enumerate` command. \n",
    "\n",
    "In this notation, there are now two variables you can use in your loop commands, `linenum` (which can be named something else) will keep up with what iteration you are on in the loop, in this case what line you are on in the file. The variable `line` (which could be named something else) functions exactly as it did before, holding the actual information from the list. Finally, instead of just giving the list name you use `enumerate(list_name)`.\n",
    "\n",
    "<div class=\"alert alert-block alert-success\"> \n",
    "<strong>Enumerate with index other than 0:</strong>\n",
    "    \n",
    "`enumerate(list_name)` will start with 0-index so the first line will be label as ‘0’, to change this behavior, use `start` variable in enumerate. For example, to start with index of “1” you can do: ```python for linenum, line in enumerate(data, start=1): # do something with ‘linenum’ and ‘line’\n",
    "\n",
    "</div>    \n",
    "\n",
    "This block of code searches our file for the line that contains “Center” and reports the line number."
   ]
  },
  {
   "cell_type": "code",
   "execution_count": null,
   "id": "93736eae-97d4-4d84-a08e-66b6b84fb807",
   "metadata": {},
   "outputs": [],
   "source": [
    "for linenum, line in enumerate(data):\n",
    "    if 'Center' in line:\n",
    "        print(linenum)\n",
    "        print(line)"
   ]
  },
  {
   "cell_type": "markdown",
   "id": "0c13e5a1-d085-4b8c-838a-b2accf85ca04",
   "metadata": {},
   "source": [
    "Now we know that this is line 77 in our file (remember that you start counting at zero!).\n",
    "\n",
    "## A final note about regular expressions\n",
    "\n",
    "Sometimes you will need to match something more complex than just a particular word or phrase in your output file. Sometimes you will need to match a particular word, but only if it is found at the beginning of a line. Or perhaps you will need to match a particular pattern of data, like a capital letter followed by a number, but you won’t know the exact letter and number you are looking for. These types of matching situations are handled with something called regular expressions which is accessed through the python module `re`. While using regular expressions (regex) is outside the scope of this tutorial, they are very useful and you might want to learn more about them in the future. \n",
    "\n",
    "<div class=\"alert alert-block alert-success\"> \n",
    "<strong>Key Points</strong>\n",
    "\n",
    "* You should use the os.path module to work with file paths.\n",
    "* One of the most flexible ways to read in the lines of a file is the `readlines()` function.\n",
    "* An if statement can be used to find a particular string within a file.\n",
    "* The `split()` function can be used to seperate the elements of a string.\n",
    "* You will often need to recast data into a different data type when it was read in as a string.\n",
    "\n",
    "</div> "
   ]
  },
  {
   "cell_type": "code",
   "execution_count": null,
   "id": "8a90d79f-abbe-4313-bbc7-bc38e748ce59",
   "metadata": {},
   "outputs": [],
   "source": []
  }
 ],
 "metadata": {
  "kernelspec": {
   "display_name": "Python 3 (ipykernel)",
   "language": "python",
   "name": "python3"
  },
  "language_info": {
   "codemirror_mode": {
    "name": "ipython",
    "version": 3
   },
   "file_extension": ".py",
   "mimetype": "text/x-python",
   "name": "python",
   "nbconvert_exporter": "python",
   "pygments_lexer": "ipython3",
   "version": "3.11.9"
  }
 },
 "nbformat": 4,
 "nbformat_minor": 5
}
